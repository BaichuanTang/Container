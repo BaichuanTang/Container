{
 "cells": [
  {
   "cell_type": "markdown",
   "id": "2e142b4a",
   "metadata": {},
   "source": [
    "# 数据采集与预处理\n",
    "## 爬虫\n",
    "使用爬虫爬取我所购买的七种饮料，代码和结果如下图所示。"
   ]
  },
  {
   "cell_type": "code",
   "execution_count": 215,
   "id": "28411b6b",
   "metadata": {
    "ExecuteTime": {
     "end_time": "2021-12-11T13:38:57.267795Z",
     "start_time": "2021-12-11T13:38:11.281797Z"
    },
    "scrolled": true
   },
   "outputs": [
    {
     "name": "stdout",
     "output_type": "stream",
     "text": [
      "请输入你想要搜索的文字：雀巢丝滑拿铁瓶装\n",
      "请输入你想要获取的照片数量:300\n",
      "330\n",
      "ok\n"
     ]
    }
   ],
   "source": [
    "import os\n",
    "import re\n",
    "import time\n",
    "import json\n",
    "import base64\n",
    "import requests\n",
    "from bs4 import BeautifulSoup\n",
    "from selenium import webdriver\n",
    "# 注意：这里pn=  后面的数字是30的倍数，也是页面打开的数量限制！！！  # 最后1&e是一个时间戳！！！\n",
    "head = {\n",
    "    'User-Agent': 'Mozilla/5.0 (Windows NT 10.0; WOW64) AppleWebKit/537.36 (KHTML, like Gecko) Chrome/84.0.4147.89 '\n",
    "                  ,\n",
    "    'encoding': 'utf-8'\n",
    "}\n",
    "word = input('请输入你想要搜索的文字：')\n",
    "number = input('请输入你想要获取的照片数量:')\n",
    "num = 1\n",
    "while num * 30 <= int(number):\n",
    "    num = num + 1\n",
    "imglist = []\n",
    "\n",
    "for i in range(0, int(num)):\n",
    "    finalurl = 'https://image.baidu.com/search/acjson?tn=resultjson_com&logid=10746385342931146838&ipn=rj&ct' \\\n",
    "               '=201326592&is=&fp=result&queryWord=%E6%9D%8E%E5%85%8B%E5%8B%A4%E5%9B%BE%E7%89%87' \\\n",
    "               '&cl=2&lm=-1&ie=utf-8&oe=utf-8&adpicid=&st=&z=&ic=&hd=&latest=&copyright=&word={}' \\\n",
    "               '&s=&se=&tab=&width=&height=&face=&istype=&qc=&nc=&fr=&expermode=&nojc=&cg' \\\n",
    "               '=star&pn={}&rn=30&gsm=b4&{}='.format(\n",
    "        word, (i + 1) * 30, time.time())\n",
    "\n",
    "    response = requests.get(url=finalurl, headers=head)\n",
    "    response=response.content.decode(\"utf-8\",\"ignore\")\n",
    "#     response=response.replace('\\\\',' ').replace(\"\\x06\", \" \").replace(\"\\x05\", \" \").replace(\"\\x07\", \" \")\\\n",
    "#         .replace('\"果粒橙 \"','果粒橙').replace('\"果粒 \"','果粒').replace('\"<strong>果粒橙< /strong> \"','果粒橙')\\\n",
    "#         .replace('\"极速冰爽,玩出境界 \"',' ')\n",
    "    response = json.loads(response)\n",
    "    \n",
    "    for j in range(0, len(response['data']) - 1):\n",
    "        imglist.append(response['data'][j]['thumbURL'])\n",
    "#\n",
    "print(len(imglist))\n",
    "if not os.path.exists(f'crawled_images\\\\{word}'):\n",
    "    os.mkdir(f'crawled_images\\\\{word}')\n",
    "for ke in range(0, int(number)):\n",
    "    content = requests.get(url=imglist[ke], headers=head).content\n",
    "    path = f'crawled_images\\\\{word}\\\\{ke}.png'\n",
    "    with open(path, 'wb') as e:\n",
    "        e.write(content)\n",
    "print('ok')"
   ]
  },
  {
   "cell_type": "markdown",
   "id": "90d92893",
   "metadata": {},
   "source": [
    "以关键词生成爬虫得到的图片索要存放的目录，将原图片从0开始编号，每个文件夹中有三百张图片，存放在crawled_images文件夹内，如下图所示。\n",
    "\n",
    "![](./assets/爬虫示例.png)"
   ]
  },
  {
   "cell_type": "markdown",
   "id": "cb6581af",
   "metadata": {},
   "source": [
    "## 对爬取的类别图片进行裁剪\n",
    "对每一张图片调用预训练的yolox-s模型，从crawled_images文件夹内读取对应的类别下的文件，调用识别模型进行识别并裁剪，最后存放到ropped_images文件夹内，代码和结果如下所示。  \n",
    "此处独立性的工作：实现visualize.py中vis函数以在不被bounding box/text覆盖原图片的情况下存储对原图裁剪后的图片；实现存储裁剪图片并落盘的逻辑。解决了原作者未考虑到的若干个检测失败、白底、爬取图片破损等的错误，并体现在注释中，老师您可以查阅。"
   ]
  },
  {
   "cell_type": "code",
   "execution_count": 1,
   "id": "056f3a38",
   "metadata": {
    "ExecuteTime": {
     "end_time": "2021-12-11T18:21:41.059699Z",
     "start_time": "2021-12-11T18:21:40.454698Z"
    }
   },
   "outputs": [],
   "source": [
    "import os\n",
    "import time\n",
    "from loguru import logger\n",
    "import cv2\n",
    "import torch\n",
    "from yolox.data.data_augment import ValTransform\n",
    "from yolox.data.datasets import COCO_CLASSES\n",
    "from yolox.exp import get_exp\n",
    "from yolox.utils import fuse_model, get_model_info, postprocess, vis\n",
    "from realtime import Predictor,image_demo"
   ]
  },
  {
   "cell_type": "code",
   "execution_count": 2,
   "id": "2078ae34",
   "metadata": {
    "ExecuteTime": {
     "end_time": "2021-12-11T18:21:51.033696Z",
     "start_time": "2021-12-11T18:21:41.062697Z"
    },
    "scrolled": true
   },
   "outputs": [
    {
     "name": "stdout",
     "output_type": "stream",
     "text": [
      "{'id': 0, 'file_name': '0.png'}\n"
     ]
    },
    {
     "name": "stderr",
     "output_type": "stream",
     "text": [
      "2021-12-12 02:21:43.158 | INFO     | realtime:inference:168 - ~~~~~~~~~~~img size: [460,500]\n",
      "2021-12-12 02:21:43.159 | INFO     | realtime:inference:169 - Infer time: 0.8130s\n",
      "2021-12-12 02:21:43.193 | INFO     | realtime:inference:168 - ~~~~~~~~~~~img size: [500,500]\n",
      "2021-12-12 02:21:43.194 | INFO     | realtime:inference:169 - Infer time: 0.0160s\n",
      "2021-12-12 02:21:43.218 | INFO     | realtime:inference:168 - ~~~~~~~~~~~img size: [500,500]\n",
      "2021-12-12 02:21:43.219 | INFO     | realtime:inference:169 - Infer time: 0.0160s\n",
      "2021-12-12 02:21:43.241 | INFO     | realtime:inference:168 - ~~~~~~~~~~~img size: [300,261]\n",
      "2021-12-12 02:21:43.242 | INFO     | realtime:inference:169 - Infer time: 0.0150s\n",
      "2021-12-12 02:21:43.268 | INFO     | realtime:inference:168 - ~~~~~~~~~~~img size: [433,500]\n",
      "2021-12-12 02:21:43.269 | INFO     | realtime:inference:169 - Infer time: 0.0160s\n",
      "2021-12-12 02:21:43.292 | INFO     | realtime:inference:168 - ~~~~~~~~~~~img size: [500,281]\n",
      "2021-12-12 02:21:43.293 | INFO     | realtime:inference:169 - Infer time: 0.0150s\n",
      "2021-12-12 02:21:43.314 | INFO     | realtime:inference:168 - ~~~~~~~~~~~img size: [500,500]\n",
      "2021-12-12 02:21:43.315 | INFO     | realtime:inference:169 - Infer time: 0.0150s\n",
      "2021-12-12 02:21:43.340 | INFO     | realtime:inference:168 - ~~~~~~~~~~~img size: [500,500]\n",
      "2021-12-12 02:21:43.341 | INFO     | realtime:inference:169 - Infer time: 0.0150s\n",
      "2021-12-12 02:21:43.366 | INFO     | realtime:inference:168 - ~~~~~~~~~~~img size: [483,383]\n"
     ]
    },
    {
     "name": "stdout",
     "output_type": "stream",
     "text": [
      "{'id': 0, 'file_name': '1.png'}\n",
      "{'id': 0, 'file_name': '10.png'}\n",
      "{'id': 0, 'file_name': '100.png'}\n",
      "{'id': 0, 'file_name': '101.png'}\n",
      "{'id': 0, 'file_name': '102.png'}\n",
      "{'id': 0, 'file_name': '103.png'}\n",
      "{'id': 0, 'file_name': '104.png'}\n",
      "{'id': 0, 'file_name': '105.png'}\n"
     ]
    },
    {
     "name": "stderr",
     "output_type": "stream",
     "text": [
      "2021-12-12 02:21:43.367 | INFO     | realtime:inference:169 - Infer time: 0.0160s\n",
      "2021-12-12 02:21:43.386 | INFO     | realtime:inference:168 - ~~~~~~~~~~~img size: [220,293]\n",
      "2021-12-12 02:21:43.387 | INFO     | realtime:inference:169 - Infer time: 0.0150s\n",
      "2021-12-12 02:21:43.411 | INFO     | realtime:inference:168 - ~~~~~~~~~~~img size: [500,500]\n",
      "2021-12-12 02:21:43.412 | INFO     | realtime:inference:169 - Infer time: 0.0150s\n",
      "2021-12-12 02:21:43.435 | INFO     | realtime:inference:168 - ~~~~~~~~~~~img size: [500,500]\n",
      "2021-12-12 02:21:43.436 | INFO     | realtime:inference:169 - Infer time: 0.0150s\n",
      "2021-12-12 02:21:43.461 | INFO     | realtime:inference:168 - ~~~~~~~~~~~img size: [771,500]\n",
      "2021-12-12 02:21:43.462 | INFO     | realtime:inference:169 - Infer time: 0.0160s\n",
      "2021-12-12 02:21:43.485 | INFO     | realtime:inference:168 - ~~~~~~~~~~~img size: [667,500]\n",
      "2021-12-12 02:21:43.486 | INFO     | realtime:inference:169 - Infer time: 0.0150s\n",
      "2021-12-12 02:21:43.510 | INFO     | realtime:inference:168 - ~~~~~~~~~~~img size: [333,500]\n",
      "2021-12-12 02:21:43.510 | INFO     | realtime:inference:169 - Infer time: 0.0150s\n",
      "2021-12-12 02:21:43.533 | INFO     | realtime:inference:168 - ~~~~~~~~~~~img size: [310,310]\n",
      "2021-12-12 02:21:43.534 | INFO     | realtime:inference:169 - Infer time: 0.0150s\n",
      "2021-12-12 02:21:43.556 | INFO     | realtime:inference:168 - ~~~~~~~~~~~img size: [500,500]\n"
     ]
    },
    {
     "name": "stdout",
     "output_type": "stream",
     "text": [
      "{'id': 0, 'file_name': '106.png'}\n",
      "{'id': 0, 'file_name': '107.png'}\n",
      "{'id': 0, 'file_name': '108.png'}\n",
      "{'id': 0, 'file_name': '109.png'}\n",
      "{'id': 0, 'file_name': '11.png'}\n",
      "{'id': 0, 'file_name': '110.png'}\n",
      "{'id': 0, 'file_name': '111.png'}\n",
      "{'id': 0, 'file_name': '112.png'}\n"
     ]
    },
    {
     "name": "stderr",
     "output_type": "stream",
     "text": [
      "2021-12-12 02:21:43.557 | INFO     | realtime:inference:169 - Infer time: 0.0150s\n",
      "2021-12-12 02:21:43.584 | INFO     | realtime:inference:168 - ~~~~~~~~~~~img size: [667,500]\n",
      "2021-12-12 02:21:43.587 | INFO     | realtime:inference:169 - Infer time: 0.0200s\n",
      "2021-12-12 02:21:43.625 | INFO     | realtime:inference:168 - ~~~~~~~~~~~img size: [375,500]\n",
      "2021-12-12 02:21:43.625 | INFO     | realtime:inference:169 - Infer time: 0.0180s\n",
      "2021-12-12 02:21:43.650 | INFO     | realtime:inference:168 - ~~~~~~~~~~~img size: [375,500]\n",
      "2021-12-12 02:21:43.650 | INFO     | realtime:inference:169 - Infer time: 0.0170s\n",
      "2021-12-12 02:21:43.677 | INFO     | realtime:inference:168 - ~~~~~~~~~~~img size: [500,500]\n",
      "2021-12-12 02:21:43.678 | INFO     | realtime:inference:169 - Infer time: 0.0150s\n",
      "2021-12-12 02:21:43.699 | INFO     | realtime:inference:168 - ~~~~~~~~~~~img size: [290,290]\n",
      "2021-12-12 02:21:43.700 | INFO     | realtime:inference:169 - Infer time: 0.0150s\n",
      "2021-12-12 02:21:43.722 | INFO     | realtime:inference:168 - ~~~~~~~~~~~img size: [300,519]\n",
      "2021-12-12 02:21:43.723 | INFO     | realtime:inference:169 - Infer time: 0.0150s\n",
      "2021-12-12 02:21:43.746 | INFO     | realtime:inference:168 - ~~~~~~~~~~~img size: [498,500]\n"
     ]
    },
    {
     "name": "stdout",
     "output_type": "stream",
     "text": [
      "{'id': 0, 'file_name': '113.png'}\n",
      "{'id': 0, 'file_name': '114.png'}\n",
      "{'id': 0, 'file_name': '115.png'}\n",
      "{'id': 0, 'file_name': '116.png'}\n",
      "{'id': 0, 'file_name': '117.png'}\n",
      "{'id': 0, 'file_name': '118.png'}\n",
      "{'id': 0, 'file_name': '119.png'}\n"
     ]
    },
    {
     "name": "stderr",
     "output_type": "stream",
     "text": [
      "2021-12-12 02:21:43.747 | INFO     | realtime:inference:169 - Infer time: 0.0150s\n",
      "2021-12-12 02:21:43.771 | INFO     | realtime:inference:168 - ~~~~~~~~~~~img size: [500,500]\n",
      "2021-12-12 02:21:43.772 | INFO     | realtime:inference:169 - Infer time: 0.0150s\n",
      "2021-12-12 02:21:43.801 | INFO     | realtime:inference:168 - ~~~~~~~~~~~img size: [500,500]\n",
      "2021-12-12 02:21:43.801 | INFO     | realtime:inference:169 - Infer time: 0.0150s\n",
      "2021-12-12 02:21:43.826 | INFO     | realtime:inference:168 - ~~~~~~~~~~~img size: [375,500]\n",
      "2021-12-12 02:21:43.827 | INFO     | realtime:inference:169 - Infer time: 0.0150s\n",
      "2021-12-12 02:21:43.849 | INFO     | realtime:inference:168 - ~~~~~~~~~~~img size: [339,500]\n",
      "2021-12-12 02:21:43.850 | INFO     | realtime:inference:169 - Infer time: 0.0160s\n",
      "2021-12-12 02:21:43.880 | INFO     | realtime:inference:168 - ~~~~~~~~~~~img size: [1558,500]\n",
      "2021-12-12 02:21:43.881 | INFO     | realtime:inference:169 - Infer time: 0.0160s\n",
      "2021-12-12 02:21:43.905 | INFO     | realtime:inference:168 - ~~~~~~~~~~~img size: [750,500]\n",
      "2021-12-12 02:21:43.905 | INFO     | realtime:inference:169 - Infer time: 0.0150s\n",
      "2021-12-12 02:21:43.927 | INFO     | realtime:inference:168 - ~~~~~~~~~~~img size: [380,372]\n"
     ]
    },
    {
     "name": "stdout",
     "output_type": "stream",
     "text": [
      "{'id': 0, 'file_name': '12.png'}\n",
      "{'id': 0, 'file_name': '120.png'}\n",
      "{'id': 0, 'file_name': '121.png'}\n",
      "{'id': 0, 'file_name': '122.png'}\n",
      "{'id': 0, 'file_name': '123.png'}\n",
      "{'id': 0, 'file_name': '124.png'}\n",
      "{'id': 0, 'file_name': '125.png'}\n"
     ]
    },
    {
     "name": "stderr",
     "output_type": "stream",
     "text": [
      "2021-12-12 02:21:43.927 | INFO     | realtime:inference:169 - Infer time: 0.0140s\n",
      "2021-12-12 02:21:43.956 | INFO     | realtime:inference:168 - ~~~~~~~~~~~img size: [500,500]\n",
      "2021-12-12 02:21:43.957 | INFO     | realtime:inference:169 - Infer time: 0.0190s\n",
      "2021-12-12 02:21:43.994 | INFO     | realtime:inference:168 - ~~~~~~~~~~~img size: [500,500]\n",
      "2021-12-12 02:21:43.995 | INFO     | realtime:inference:169 - Infer time: 0.0210s\n",
      "2021-12-12 02:21:44.028 | INFO     | realtime:inference:168 - ~~~~~~~~~~~img size: [500,500]\n",
      "2021-12-12 02:21:44.028 | INFO     | realtime:inference:169 - Infer time: 0.0190s\n",
      "2021-12-12 02:21:44.053 | INFO     | realtime:inference:168 - ~~~~~~~~~~~img size: [460,500]\n",
      "2021-12-12 02:21:44.053 | INFO     | realtime:inference:169 - Infer time: 0.0160s\n",
      "2021-12-12 02:21:44.085 | INFO     | realtime:inference:168 - ~~~~~~~~~~~img size: [500,500]\n",
      "2021-12-12 02:21:44.085 | INFO     | realtime:inference:169 - Infer time: 0.0150s\n",
      "2021-12-12 02:21:44.111 | INFO     | realtime:inference:168 - ~~~~~~~~~~~img size: [500,500]\n",
      "2021-12-12 02:21:44.112 | INFO     | realtime:inference:169 - Infer time: 0.0160s\n"
     ]
    },
    {
     "name": "stdout",
     "output_type": "stream",
     "text": [
      "{'id': 0, 'file_name': '126.png'}\n",
      "{'id': 0, 'file_name': '127.png'}\n",
      "{'id': 0, 'file_name': '128.png'}\n",
      "{'id': 0, 'file_name': '129.png'}\n",
      "{'id': 0, 'file_name': '13.png'}\n",
      "{'id': 0, 'file_name': '130.png'}\n"
     ]
    },
    {
     "name": "stderr",
     "output_type": "stream",
     "text": [
      "2021-12-12 02:21:44.136 | INFO     | realtime:inference:168 - ~~~~~~~~~~~img size: [500,500]\n",
      "2021-12-12 02:21:44.137 | INFO     | realtime:inference:169 - Infer time: 0.0150s\n",
      "2021-12-12 02:21:44.167 | INFO     | realtime:inference:168 - ~~~~~~~~~~~img size: [600,600]\n",
      "2021-12-12 02:21:44.168 | INFO     | realtime:inference:169 - Infer time: 0.0170s\n",
      "2021-12-12 02:21:44.195 | INFO     | realtime:inference:168 - ~~~~~~~~~~~img size: [314,312]\n",
      "2021-12-12 02:21:44.196 | INFO     | realtime:inference:169 - Infer time: 0.0170s\n",
      "2021-12-12 02:21:44.221 | INFO     | realtime:inference:168 - ~~~~~~~~~~~img size: [500,500]\n",
      "2021-12-12 02:21:44.222 | INFO     | realtime:inference:169 - Infer time: 0.0160s\n",
      "2021-12-12 02:21:44.255 | INFO     | realtime:inference:168 - ~~~~~~~~~~~img size: [360,658]\n",
      "2021-12-12 02:21:44.256 | INFO     | realtime:inference:169 - Infer time: 0.0220s\n",
      "2021-12-12 02:21:44.291 | INFO     | realtime:inference:168 - ~~~~~~~~~~~img size: [300,558]\n",
      "2021-12-12 02:21:44.292 | INFO     | realtime:inference:169 - Infer time: 0.0180s\n",
      "2021-12-12 02:21:44.321 | INFO     | realtime:inference:168 - ~~~~~~~~~~~img size: [500,375]\n"
     ]
    },
    {
     "name": "stdout",
     "output_type": "stream",
     "text": [
      "{'id': 0, 'file_name': '131.png'}\n",
      "{'id': 0, 'file_name': '132.png'}\n",
      "{'id': 0, 'file_name': '133.png'}\n",
      "{'id': 0, 'file_name': '134.png'}\n",
      "{'id': 0, 'file_name': '135.png'}\n",
      "{'id': 0, 'file_name': '136.png'}\n",
      "{'id': 0, 'file_name': '137.png'}\n"
     ]
    },
    {
     "name": "stderr",
     "output_type": "stream",
     "text": [
      "2021-12-12 02:21:44.322 | INFO     | realtime:inference:169 - Infer time: 0.0190s\n",
      "2021-12-12 02:21:44.353 | INFO     | realtime:inference:168 - ~~~~~~~~~~~img size: [500,500]\n",
      "2021-12-12 02:21:44.354 | INFO     | realtime:inference:169 - Infer time: 0.0180s\n",
      "2021-12-12 02:21:44.378 | INFO     | realtime:inference:168 - ~~~~~~~~~~~img size: [319,500]\n",
      "2021-12-12 02:21:44.379 | INFO     | realtime:inference:169 - Infer time: 0.0160s\n",
      "2021-12-12 02:21:44.404 | INFO     | realtime:inference:168 - ~~~~~~~~~~~img size: [500,500]\n",
      "2021-12-12 02:21:44.404 | INFO     | realtime:inference:169 - Infer time: 0.0150s\n",
      "2021-12-12 02:21:44.431 | INFO     | realtime:inference:168 - ~~~~~~~~~~~img size: [500,500]\n",
      "2021-12-12 02:21:44.432 | INFO     | realtime:inference:169 - Infer time: 0.0140s\n",
      "2021-12-12 02:21:44.455 | INFO     | realtime:inference:168 - ~~~~~~~~~~~img size: [500,500]\n",
      "2021-12-12 02:21:44.456 | INFO     | realtime:inference:169 - Infer time: 0.0150s\n",
      "2021-12-12 02:21:44.480 | INFO     | realtime:inference:168 - ~~~~~~~~~~~img size: [500,500]\n",
      "2021-12-12 02:21:44.481 | INFO     | realtime:inference:169 - Infer time: 0.0160s\n",
      "2021-12-12 02:21:44.505 | INFO     | realtime:inference:168 - ~~~~~~~~~~~img size: [500,500]\n",
      "2021-12-12 02:21:44.506 | INFO     | realtime:inference:169 - Infer time: 0.0160s\n",
      "2021-12-12 02:21:44.528 | INFO     | realtime:inference:168 - ~~~~~~~~~~~img size: [267,303]\n"
     ]
    },
    {
     "name": "stdout",
     "output_type": "stream",
     "text": [
      "{'id': 0, 'file_name': '138.png'}\n",
      "{'id': 0, 'file_name': '139.png'}\n",
      "{'id': 0, 'file_name': '14.png'}\n",
      "{'id': 0, 'file_name': '140.png'}\n",
      "{'id': 0, 'file_name': '141.png'}\n",
      "{'id': 0, 'file_name': '142.png'}\n",
      "{'id': 0, 'file_name': '143.png'}\n",
      "{'id': 0, 'file_name': '144.png'}\n"
     ]
    },
    {
     "name": "stderr",
     "output_type": "stream",
     "text": [
      "2021-12-12 02:21:44.529 | INFO     | realtime:inference:169 - Infer time: 0.0150s\n",
      "2021-12-12 02:21:44.554 | INFO     | realtime:inference:168 - ~~~~~~~~~~~img size: [500,500]\n",
      "2021-12-12 02:21:44.554 | INFO     | realtime:inference:169 - Infer time: 0.0160s\n",
      "2021-12-12 02:21:44.580 | INFO     | realtime:inference:168 - ~~~~~~~~~~~img size: [493,500]\n",
      "2021-12-12 02:21:44.580 | INFO     | realtime:inference:169 - Infer time: 0.0140s\n",
      "2021-12-12 02:21:44.611 | INFO     | realtime:inference:168 - ~~~~~~~~~~~img size: [500,500]\n",
      "2021-12-12 02:21:44.612 | INFO     | realtime:inference:169 - Infer time: 0.0150s\n",
      "2021-12-12 02:21:44.636 | INFO     | realtime:inference:168 - ~~~~~~~~~~~img size: [500,500]\n",
      "2021-12-12 02:21:44.636 | INFO     | realtime:inference:169 - Infer time: 0.0140s\n",
      "2021-12-12 02:21:44.657 | INFO     | realtime:inference:168 - ~~~~~~~~~~~img size: [300,300]\n",
      "2021-12-12 02:21:44.658 | INFO     | realtime:inference:169 - Infer time: 0.0150s\n",
      "2021-12-12 02:21:44.688 | INFO     | realtime:inference:168 - ~~~~~~~~~~~img size: [500,500]\n",
      "2021-12-12 02:21:44.688 | INFO     | realtime:inference:169 - Infer time: 0.0150s\n",
      "2021-12-12 02:21:44.708 | INFO     | realtime:inference:168 - ~~~~~~~~~~~img size: [348,500]\n"
     ]
    },
    {
     "name": "stdout",
     "output_type": "stream",
     "text": [
      "{'id': 0, 'file_name': '145.png'}\n",
      "{'id': 0, 'file_name': '146.png'}\n",
      "{'id': 0, 'file_name': '147.png'}\n",
      "{'id': 0, 'file_name': '148.png'}\n",
      "{'id': 0, 'file_name': '149.png'}\n",
      "{'id': 0, 'file_name': '15.png'}\n",
      "{'id': 0, 'file_name': '150.png'}\n"
     ]
    },
    {
     "name": "stderr",
     "output_type": "stream",
     "text": [
      "2021-12-12 02:21:44.709 | INFO     | realtime:inference:169 - Infer time: 0.0150s\n",
      "2021-12-12 02:21:44.731 | INFO     | realtime:inference:168 - ~~~~~~~~~~~img size: [303,500]\n",
      "2021-12-12 02:21:44.732 | INFO     | realtime:inference:169 - Infer time: 0.0150s\n",
      "2021-12-12 02:21:44.756 | INFO     | realtime:inference:168 - ~~~~~~~~~~~img size: [500,500]\n",
      "2021-12-12 02:21:44.756 | INFO     | realtime:inference:169 - Infer time: 0.0140s\n",
      "2021-12-12 02:21:44.777 | INFO     | realtime:inference:168 - ~~~~~~~~~~~img size: [500,500]\n",
      "2021-12-12 02:21:44.778 | INFO     | realtime:inference:169 - Infer time: 0.0150s\n",
      "2021-12-12 02:21:44.801 | INFO     | realtime:inference:168 - ~~~~~~~~~~~img size: [461,500]\n",
      "2021-12-12 02:21:44.802 | INFO     | realtime:inference:169 - Infer time: 0.0150s\n",
      "2021-12-12 02:21:44.822 | INFO     | realtime:inference:168 - ~~~~~~~~~~~img size: [333,500]\n",
      "2021-12-12 02:21:44.823 | INFO     | realtime:inference:169 - Infer time: 0.0150s\n",
      "2021-12-12 02:21:44.845 | INFO     | realtime:inference:168 - ~~~~~~~~~~~img size: [500,500]\n",
      "2021-12-12 02:21:44.846 | INFO     | realtime:inference:169 - Infer time: 0.0150s\n",
      "2021-12-12 02:21:44.870 | INFO     | realtime:inference:168 - ~~~~~~~~~~~img size: [500,500]\n",
      "2021-12-12 02:21:44.871 | INFO     | realtime:inference:169 - Infer time: 0.0150s\n",
      "2021-12-12 02:21:44.894 | INFO     | realtime:inference:168 - ~~~~~~~~~~~img size: [500,500]\n"
     ]
    },
    {
     "name": "stdout",
     "output_type": "stream",
     "text": [
      "{'id': 0, 'file_name': '151.png'}\n",
      "{'id': 0, 'file_name': '152.png'}\n",
      "{'id': 0, 'file_name': '153.png'}\n",
      "{'id': 0, 'file_name': '154.png'}\n",
      "{'id': 0, 'file_name': '155.png'}\n",
      "{'id': 0, 'file_name': '156.png'}\n",
      "{'id': 0, 'file_name': '157.png'}\n",
      "{'id': 0, 'file_name': '158.png'}\n"
     ]
    },
    {
     "name": "stderr",
     "output_type": "stream",
     "text": [
      "2021-12-12 02:21:44.895 | INFO     | realtime:inference:169 - Infer time: 0.0150s\n",
      "2021-12-12 02:21:44.927 | INFO     | realtime:inference:168 - ~~~~~~~~~~~img size: [582,500]\n",
      "2021-12-12 02:21:44.927 | INFO     | realtime:inference:169 - Infer time: 0.0150s\n",
      "2021-12-12 02:21:44.953 | INFO     | realtime:inference:168 - ~~~~~~~~~~~img size: [500,500]\n",
      "2021-12-12 02:21:44.954 | INFO     | realtime:inference:169 - Infer time: 0.0150s\n",
      "2021-12-12 02:21:44.978 | INFO     | realtime:inference:168 - ~~~~~~~~~~~img size: [591,500]\n",
      "2021-12-12 02:21:44.978 | INFO     | realtime:inference:169 - Infer time: 0.0150s\n",
      "2021-12-12 02:21:45.003 | INFO     | realtime:inference:168 - ~~~~~~~~~~~img size: [500,500]\n",
      "2021-12-12 02:21:45.003 | INFO     | realtime:inference:169 - Infer time: 0.0150s\n",
      "2021-12-12 02:21:45.029 | INFO     | realtime:inference:168 - ~~~~~~~~~~~img size: [500,500]\n",
      "2021-12-12 02:21:45.030 | INFO     | realtime:inference:169 - Infer time: 0.0150s\n",
      "2021-12-12 02:21:45.057 | INFO     | realtime:inference:168 - ~~~~~~~~~~~img size: [500,500]\n",
      "2021-12-12 02:21:45.058 | INFO     | realtime:inference:169 - Infer time: 0.0150s\n",
      "2021-12-12 02:21:45.090 | INFO     | realtime:inference:168 - ~~~~~~~~~~~img size: [1288,500]\n"
     ]
    },
    {
     "name": "stdout",
     "output_type": "stream",
     "text": [
      "{'id': 0, 'file_name': '159.png'}\n",
      "{'id': 0, 'file_name': '16.png'}\n",
      "{'id': 0, 'file_name': '160.png'}\n",
      "{'id': 0, 'file_name': '161.png'}\n",
      "{'id': 0, 'file_name': '162.png'}\n",
      "{'id': 0, 'file_name': '163.png'}\n",
      "{'id': 0, 'file_name': '164.png'}\n"
     ]
    },
    {
     "name": "stderr",
     "output_type": "stream",
     "text": [
      "2021-12-12 02:21:45.091 | INFO     | realtime:inference:169 - Infer time: 0.0180s\n",
      "2021-12-12 02:21:45.123 | INFO     | realtime:inference:168 - ~~~~~~~~~~~img size: [500,500]\n",
      "2021-12-12 02:21:45.124 | INFO     | realtime:inference:169 - Infer time: 0.0190s\n",
      "2021-12-12 02:21:45.192 | INFO     | realtime:inference:168 - ~~~~~~~~~~~img size: [500,500]\n",
      "2021-12-12 02:21:45.193 | INFO     | realtime:inference:169 - Infer time: 0.0150s\n",
      "2021-12-12 02:21:45.222 | INFO     | realtime:inference:168 - ~~~~~~~~~~~img size: [678,500]\n",
      "2021-12-12 02:21:45.222 | INFO     | realtime:inference:169 - Infer time: 0.0200s\n",
      "2021-12-12 02:21:45.250 | INFO     | realtime:inference:168 - ~~~~~~~~~~~img size: [500,500]\n",
      "2021-12-12 02:21:45.250 | INFO     | realtime:inference:169 - Infer time: 0.0150s\n",
      "2021-12-12 02:21:45.275 | INFO     | realtime:inference:168 - ~~~~~~~~~~~img size: [500,500]\n",
      "2021-12-12 02:21:45.276 | INFO     | realtime:inference:169 - Infer time: 0.0150s\n",
      "2021-12-12 02:21:45.304 | INFO     | realtime:inference:168 - ~~~~~~~~~~~img size: [540,500]\n"
     ]
    },
    {
     "name": "stdout",
     "output_type": "stream",
     "text": [
      "{'id': 0, 'file_name': '165.png'}\n",
      "{'id': 0, 'file_name': '166.png'}\n",
      "{'id': 0, 'file_name': '167.png'}\n",
      "{'id': 0, 'file_name': '168.png'}\n",
      "{'id': 0, 'file_name': '169.png'}\n",
      "{'id': 0, 'file_name': '17.png'}\n"
     ]
    },
    {
     "name": "stderr",
     "output_type": "stream",
     "text": [
      "2021-12-12 02:21:45.304 | INFO     | realtime:inference:169 - Infer time: 0.0160s\n",
      "2021-12-12 02:21:45.328 | INFO     | realtime:inference:168 - ~~~~~~~~~~~img size: [300,300]\n",
      "2021-12-12 02:21:45.328 | INFO     | realtime:inference:169 - Infer time: 0.0150s\n",
      "2021-12-12 02:21:45.352 | INFO     | realtime:inference:168 - ~~~~~~~~~~~img size: [500,500]\n",
      "2021-12-12 02:21:45.353 | INFO     | realtime:inference:169 - Infer time: 0.0150s\n",
      "2021-12-12 02:21:45.375 | INFO     | realtime:inference:168 - ~~~~~~~~~~~img size: [220,220]\n",
      "2021-12-12 02:21:45.376 | INFO     | realtime:inference:169 - Infer time: 0.0150s\n",
      "2021-12-12 02:21:45.399 | INFO     | realtime:inference:168 - ~~~~~~~~~~~img size: [350,350]\n",
      "2021-12-12 02:21:45.400 | INFO     | realtime:inference:169 - Infer time: 0.0150s\n",
      "2021-12-12 02:21:45.425 | INFO     | realtime:inference:168 - ~~~~~~~~~~~img size: [500,500]\n",
      "2021-12-12 02:21:45.426 | INFO     | realtime:inference:169 - Infer time: 0.0170s\n",
      "2021-12-12 02:21:45.449 | INFO     | realtime:inference:168 - ~~~~~~~~~~~img size: [220,220]\n",
      "2021-12-12 02:21:45.450 | INFO     | realtime:inference:169 - Infer time: 0.0150s\n",
      "2021-12-12 02:21:45.474 | INFO     | realtime:inference:168 - ~~~~~~~~~~~img size: [640,480]\n",
      "2021-12-12 02:21:45.475 | INFO     | realtime:inference:169 - Infer time: 0.0150s\n",
      "2021-12-12 02:21:45.498 | INFO     | realtime:inference:168 - ~~~~~~~~~~~img size: [500,500]\n"
     ]
    },
    {
     "name": "stdout",
     "output_type": "stream",
     "text": [
      "{'id': 0, 'file_name': '170.png'}\n",
      "{'id': 0, 'file_name': '171.png'}\n",
      "{'id': 0, 'file_name': '172.png'}\n",
      "{'id': 0, 'file_name': '173.png'}\n",
      "{'id': 0, 'file_name': '174.png'}\n",
      "{'id': 0, 'file_name': '175.png'}\n",
      "{'id': 0, 'file_name': '176.png'}\n",
      "{'id': 0, 'file_name': '177.png'}\n"
     ]
    },
    {
     "name": "stderr",
     "output_type": "stream",
     "text": [
      "2021-12-12 02:21:45.498 | INFO     | realtime:inference:169 - Infer time: 0.0150s\n",
      "2021-12-12 02:21:45.524 | INFO     | realtime:inference:168 - ~~~~~~~~~~~img size: [304,500]\n",
      "2021-12-12 02:21:45.525 | INFO     | realtime:inference:169 - Infer time: 0.0170s\n",
      "2021-12-12 02:21:45.549 | INFO     | realtime:inference:168 - ~~~~~~~~~~~img size: [500,500]\n",
      "2021-12-12 02:21:45.549 | INFO     | realtime:inference:169 - Infer time: 0.0150s\n",
      "2021-12-12 02:21:45.574 | INFO     | realtime:inference:168 - ~~~~~~~~~~~img size: [500,500]\n",
      "2021-12-12 02:21:45.575 | INFO     | realtime:inference:169 - Infer time: 0.0160s\n",
      "2021-12-12 02:21:45.597 | INFO     | realtime:inference:168 - ~~~~~~~~~~~img size: [500,500]\n",
      "2021-12-12 02:21:45.598 | INFO     | realtime:inference:169 - Infer time: 0.0150s\n",
      "2021-12-12 02:21:45.624 | INFO     | realtime:inference:168 - ~~~~~~~~~~~img size: [500,500]\n",
      "2021-12-12 02:21:45.624 | INFO     | realtime:inference:169 - Infer time: 0.0160s\n",
      "2021-12-12 02:21:45.647 | INFO     | realtime:inference:168 - ~~~~~~~~~~~img size: [310,310]\n",
      "2021-12-12 02:21:45.648 | INFO     | realtime:inference:169 - Infer time: 0.0170s\n",
      "2021-12-12 02:21:45.674 | INFO     | realtime:inference:168 - ~~~~~~~~~~~img size: [220,220]\n",
      "2021-12-12 02:21:45.675 | INFO     | realtime:inference:169 - Infer time: 0.0150s\n",
      "2021-12-12 02:21:45.696 | INFO     | realtime:inference:168 - ~~~~~~~~~~~img size: [500,500]\n"
     ]
    },
    {
     "name": "stdout",
     "output_type": "stream",
     "text": [
      "{'id': 0, 'file_name': '178.png'}\n",
      "{'id': 0, 'file_name': '179.png'}\n",
      "{'id': 0, 'file_name': '18.png'}\n",
      "{'id': 0, 'file_name': '180.png'}\n",
      "{'id': 0, 'file_name': '181.png'}\n",
      "{'id': 0, 'file_name': '182.png'}\n",
      "{'id': 0, 'file_name': '183.png'}\n",
      "{'id': 0, 'file_name': '184.png'}\n"
     ]
    },
    {
     "name": "stderr",
     "output_type": "stream",
     "text": [
      "2021-12-12 02:21:45.697 | INFO     | realtime:inference:169 - Infer time: 0.0150s\n",
      "2021-12-12 02:21:45.724 | INFO     | realtime:inference:168 - ~~~~~~~~~~~img size: [333,500]\n",
      "2021-12-12 02:21:45.724 | INFO     | realtime:inference:169 - Infer time: 0.0160s\n",
      "2021-12-12 02:21:45.747 | INFO     | realtime:inference:168 - ~~~~~~~~~~~img size: [666,500]\n",
      "2021-12-12 02:21:45.747 | INFO     | realtime:inference:169 - Infer time: 0.0150s\n",
      "2021-12-12 02:21:45.773 | INFO     | realtime:inference:168 - ~~~~~~~~~~~img size: [500,500]\n",
      "2021-12-12 02:21:45.774 | INFO     | realtime:inference:169 - Infer time: 0.0160s\n",
      "2021-12-12 02:21:45.797 | INFO     | realtime:inference:168 - ~~~~~~~~~~~img size: [666,500]\n",
      "2021-12-12 02:21:45.798 | INFO     | realtime:inference:169 - Infer time: 0.0150s\n",
      "2021-12-12 02:21:45.821 | INFO     | realtime:inference:168 - ~~~~~~~~~~~img size: [500,500]\n",
      "2021-12-12 02:21:45.822 | INFO     | realtime:inference:169 - Infer time: 0.0160s\n",
      "2021-12-12 02:21:45.848 | INFO     | realtime:inference:168 - ~~~~~~~~~~~img size: [500,500]\n",
      "2021-12-12 02:21:45.849 | INFO     | realtime:inference:169 - Infer time: 0.0160s\n",
      "2021-12-12 02:21:45.874 | INFO     | realtime:inference:168 - ~~~~~~~~~~~img size: [500,500]\n",
      "2021-12-12 02:21:45.875 | INFO     | realtime:inference:169 - Infer time: 0.0160s\n"
     ]
    },
    {
     "name": "stdout",
     "output_type": "stream",
     "text": [
      "{'id': 0, 'file_name': '185.png'}\n",
      "{'id': 0, 'file_name': '186.png'}\n",
      "{'id': 0, 'file_name': '187.png'}\n",
      "{'id': 0, 'file_name': '188.png'}\n",
      "{'id': 0, 'file_name': '189.png'}\n",
      "{'id': 0, 'file_name': '19.png'}\n",
      "{'id': 0, 'file_name': '190.png'}\n",
      "{'id': 0, 'file_name': '191.png'}\n"
     ]
    },
    {
     "name": "stderr",
     "output_type": "stream",
     "text": [
      "2021-12-12 02:21:45.901 | INFO     | realtime:inference:168 - ~~~~~~~~~~~img size: [667,500]\n",
      "2021-12-12 02:21:45.902 | INFO     | realtime:inference:169 - Infer time: 0.0160s\n",
      "2021-12-12 02:21:45.927 | INFO     | realtime:inference:168 - ~~~~~~~~~~~img size: [375,500]\n",
      "2021-12-12 02:21:45.928 | INFO     | realtime:inference:169 - Infer time: 0.0160s\n",
      "2021-12-12 02:21:45.950 | INFO     | realtime:inference:168 - ~~~~~~~~~~~img size: [300,300]\n",
      "2021-12-12 02:21:45.951 | INFO     | realtime:inference:169 - Infer time: 0.0150s\n",
      "2021-12-12 02:21:45.976 | INFO     | realtime:inference:168 - ~~~~~~~~~~~img size: [500,500]\n",
      "2021-12-12 02:21:45.977 | INFO     | realtime:inference:169 - Infer time: 0.0150s\n",
      "2021-12-12 02:21:46.004 | INFO     | realtime:inference:168 - ~~~~~~~~~~~img size: [499,500]\n",
      "2021-12-12 02:21:46.004 | INFO     | realtime:inference:169 - Infer time: 0.0160s\n",
      "2021-12-12 02:21:46.027 | INFO     | realtime:inference:168 - ~~~~~~~~~~~img size: [310,310]\n",
      "2021-12-12 02:21:46.028 | INFO     | realtime:inference:169 - Infer time: 0.0160s\n",
      "2021-12-12 02:21:46.050 | INFO     | realtime:inference:168 - ~~~~~~~~~~~img size: [500,500]\n",
      "2021-12-12 02:21:46.050 | INFO     | realtime:inference:169 - Infer time: 0.0150s\n",
      "2021-12-12 02:21:46.076 | INFO     | realtime:inference:168 - ~~~~~~~~~~~img size: [760,500]\n",
      "2021-12-12 02:21:46.077 | INFO     | realtime:inference:169 - Infer time: 0.0160s\n"
     ]
    },
    {
     "name": "stdout",
     "output_type": "stream",
     "text": [
      "{'id': 0, 'file_name': '192.png'}\n",
      "{'id': 0, 'file_name': '193.png'}\n",
      "{'id': 0, 'file_name': '194.png'}\n",
      "{'id': 0, 'file_name': '195.png'}\n",
      "{'id': 0, 'file_name': '196.png'}\n",
      "{'id': 0, 'file_name': '197.png'}\n",
      "{'id': 0, 'file_name': '198.png'}\n",
      "{'id': 0, 'file_name': '199.png'}\n"
     ]
    },
    {
     "name": "stderr",
     "output_type": "stream",
     "text": [
      "2021-12-12 02:21:46.105 | INFO     | realtime:inference:168 - ~~~~~~~~~~~img size: [500,500]\n",
      "2021-12-12 02:21:46.105 | INFO     | realtime:inference:169 - Infer time: 0.0170s\n",
      "2021-12-12 02:21:46.127 | INFO     | realtime:inference:168 - ~~~~~~~~~~~img size: [220,220]\n",
      "2021-12-12 02:21:46.128 | INFO     | realtime:inference:169 - Infer time: 0.0160s\n",
      "2021-12-12 02:21:46.153 | INFO     | realtime:inference:168 - ~~~~~~~~~~~img size: [382,500]\n",
      "2021-12-12 02:21:46.153 | INFO     | realtime:inference:169 - Infer time: 0.0160s\n",
      "2021-12-12 02:21:46.182 | INFO     | realtime:inference:168 - ~~~~~~~~~~~img size: [500,500]\n",
      "2021-12-12 02:21:46.183 | INFO     | realtime:inference:169 - Infer time: 0.0160s\n",
      "2021-12-12 02:21:46.214 | INFO     | realtime:inference:168 - ~~~~~~~~~~~img size: [400,400]\n",
      "2021-12-12 02:21:46.215 | INFO     | realtime:inference:169 - Infer time: 0.0200s\n",
      "2021-12-12 02:21:46.264 | INFO     | realtime:inference:168 - ~~~~~~~~~~~img size: [800,800]\n",
      "2021-12-12 02:21:46.265 | INFO     | realtime:inference:169 - Infer time: 0.0230s\n",
      "2021-12-12 02:21:46.303 | INFO     | realtime:inference:168 - ~~~~~~~~~~~img size: [500,500]\n"
     ]
    },
    {
     "name": "stdout",
     "output_type": "stream",
     "text": [
      "{'id': 0, 'file_name': '2.png'}\n",
      "{'id': 0, 'file_name': '20.png'}\n",
      "{'id': 0, 'file_name': '200.png'}\n",
      "{'id': 0, 'file_name': '201.png'}\n",
      "{'id': 0, 'file_name': '202.png'}\n",
      "{'id': 0, 'file_name': '203.png'}\n"
     ]
    },
    {
     "name": "stderr",
     "output_type": "stream",
     "text": [
      "2021-12-12 02:21:46.304 | INFO     | realtime:inference:169 - Infer time: 0.0170s\n",
      "2021-12-12 02:21:46.333 | INFO     | realtime:inference:168 - ~~~~~~~~~~~img size: [666,500]\n",
      "2021-12-12 02:21:46.333 | INFO     | realtime:inference:169 - Infer time: 0.0170s\n",
      "2021-12-12 02:21:46.363 | INFO     | realtime:inference:168 - ~~~~~~~~~~~img size: [350,350]\n",
      "2021-12-12 02:21:46.364 | INFO     | realtime:inference:169 - Infer time: 0.0190s\n",
      "2021-12-12 02:21:46.389 | INFO     | realtime:inference:168 - ~~~~~~~~~~~img size: [500,500]\n",
      "2021-12-12 02:21:46.389 | INFO     | realtime:inference:169 - Infer time: 0.0150s\n",
      "2021-12-12 02:21:46.412 | INFO     | realtime:inference:168 - ~~~~~~~~~~~img size: [500,500]\n",
      "2021-12-12 02:21:46.413 | INFO     | realtime:inference:169 - Infer time: 0.0150s\n",
      "2021-12-12 02:21:46.435 | INFO     | realtime:inference:168 - ~~~~~~~~~~~img size: [500,500]\n",
      "2021-12-12 02:21:46.435 | INFO     | realtime:inference:169 - Infer time: 0.0150s\n",
      "2021-12-12 02:21:46.466 | INFO     | realtime:inference:168 - ~~~~~~~~~~~img size: [331,500]\n",
      "2021-12-12 02:21:46.467 | INFO     | realtime:inference:169 - Infer time: 0.0160s\n",
      "2021-12-12 02:21:46.490 | INFO     | realtime:inference:168 - ~~~~~~~~~~~img size: [500,500]\n"
     ]
    },
    {
     "name": "stdout",
     "output_type": "stream",
     "text": [
      "{'id': 0, 'file_name': '204.png'}\n",
      "{'id': 0, 'file_name': '205.png'}\n",
      "{'id': 0, 'file_name': '206.png'}\n",
      "{'id': 0, 'file_name': '207.png'}\n",
      "{'id': 0, 'file_name': '208.png'}\n",
      "{'id': 0, 'file_name': '209.png'}\n",
      "{'id': 0, 'file_name': '21.png'}\n"
     ]
    },
    {
     "name": "stderr",
     "output_type": "stream",
     "text": [
      "2021-12-12 02:21:46.491 | INFO     | realtime:inference:169 - Infer time: 0.0160s\n",
      "2021-12-12 02:21:46.515 | INFO     | realtime:inference:168 - ~~~~~~~~~~~img size: [500,500]\n",
      "2021-12-12 02:21:46.515 | INFO     | realtime:inference:169 - Infer time: 0.0150s\n",
      "2021-12-12 02:21:46.537 | INFO     | realtime:inference:168 - ~~~~~~~~~~~img size: [220,220]\n",
      "2021-12-12 02:21:46.538 | INFO     | realtime:inference:169 - Infer time: 0.0150s\n",
      "2021-12-12 02:21:46.567 | INFO     | realtime:inference:168 - ~~~~~~~~~~~img size: [632,500]\n",
      "2021-12-12 02:21:46.567 | INFO     | realtime:inference:169 - Infer time: 0.0160s\n",
      "2021-12-12 02:21:46.592 | INFO     | realtime:inference:168 - ~~~~~~~~~~~img size: [580,580]\n",
      "2021-12-12 02:21:46.593 | INFO     | realtime:inference:169 - Infer time: 0.0160s\n",
      "2021-12-12 02:21:46.618 | INFO     | realtime:inference:168 - ~~~~~~~~~~~img size: [500,500]\n",
      "2021-12-12 02:21:46.619 | INFO     | realtime:inference:169 - Infer time: 0.0150s\n",
      "2021-12-12 02:21:46.646 | INFO     | realtime:inference:168 - ~~~~~~~~~~~img size: [500,500]\n",
      "2021-12-12 02:21:46.647 | INFO     | realtime:inference:169 - Infer time: 0.0170s\n",
      "2021-12-12 02:21:46.674 | INFO     | realtime:inference:168 - ~~~~~~~~~~~img size: [500,500]\n",
      "2021-12-12 02:21:46.675 | INFO     | realtime:inference:169 - Infer time: 0.0140s\n"
     ]
    },
    {
     "name": "stdout",
     "output_type": "stream",
     "text": [
      "{'id': 0, 'file_name': '210.png'}\n",
      "{'id': 0, 'file_name': '211.png'}\n",
      "{'id': 0, 'file_name': '212.png'}\n",
      "{'id': 0, 'file_name': '213.png'}\n",
      "{'id': 0, 'file_name': '214.png'}\n",
      "{'id': 0, 'file_name': '215.png'}\n",
      "{'id': 0, 'file_name': '216.png'}\n"
     ]
    },
    {
     "name": "stderr",
     "output_type": "stream",
     "text": [
      "2021-12-12 02:21:46.696 | INFO     | realtime:inference:168 - ~~~~~~~~~~~img size: [500,500]\n",
      "2021-12-12 02:21:46.697 | INFO     | realtime:inference:169 - Infer time: 0.0150s\n",
      "2021-12-12 02:21:46.722 | INFO     | realtime:inference:168 - ~~~~~~~~~~~img size: [500,500]\n",
      "2021-12-12 02:21:46.723 | INFO     | realtime:inference:169 - Infer time: 0.0170s\n",
      "2021-12-12 02:21:46.744 | INFO     | realtime:inference:168 - ~~~~~~~~~~~img size: [220,220]\n",
      "2021-12-12 02:21:46.745 | INFO     | realtime:inference:169 - Infer time: 0.0170s\n",
      "2021-12-12 02:21:46.767 | INFO     | realtime:inference:168 - ~~~~~~~~~~~img size: [500,500]\n",
      "2021-12-12 02:21:46.768 | INFO     | realtime:inference:169 - Infer time: 0.0160s\n",
      "2021-12-12 02:21:46.791 | INFO     | realtime:inference:168 - ~~~~~~~~~~~img size: [500,500]\n",
      "2021-12-12 02:21:46.791 | INFO     | realtime:inference:169 - Infer time: 0.0150s\n",
      "2021-12-12 02:21:46.815 | INFO     | realtime:inference:168 - ~~~~~~~~~~~img size: [500,500]\n",
      "2021-12-12 02:21:46.816 | INFO     | realtime:inference:169 - Infer time: 0.0150s\n",
      "2021-12-12 02:21:46.839 | INFO     | realtime:inference:168 - ~~~~~~~~~~~img size: [500,500]\n",
      "2021-12-12 02:21:46.840 | INFO     | realtime:inference:169 - Infer time: 0.0150s\n",
      "2021-12-12 02:21:46.865 | INFO     | realtime:inference:168 - ~~~~~~~~~~~img size: [500,500]\n"
     ]
    },
    {
     "name": "stdout",
     "output_type": "stream",
     "text": [
      "{'id': 0, 'file_name': '217.png'}\n",
      "{'id': 0, 'file_name': '218.png'}\n",
      "{'id': 0, 'file_name': '219.png'}\n",
      "{'id': 0, 'file_name': '22.png'}\n",
      "{'id': 0, 'file_name': '220.png'}\n",
      "{'id': 0, 'file_name': '221.png'}\n",
      "{'id': 0, 'file_name': '222.png'}\n",
      "{'id': 0, 'file_name': '223.png'}\n"
     ]
    },
    {
     "name": "stderr",
     "output_type": "stream",
     "text": [
      "2021-12-12 02:21:46.866 | INFO     | realtime:inference:169 - Infer time: 0.0160s\n",
      "2021-12-12 02:21:46.893 | INFO     | realtime:inference:168 - ~~~~~~~~~~~img size: [500,500]\n",
      "2021-12-12 02:21:46.893 | INFO     | realtime:inference:169 - Infer time: 0.0150s\n",
      "2021-12-12 02:21:46.918 | INFO     | realtime:inference:168 - ~~~~~~~~~~~img size: [490,500]\n",
      "2021-12-12 02:21:46.919 | INFO     | realtime:inference:169 - Infer time: 0.0160s\n",
      "2021-12-12 02:21:46.944 | INFO     | realtime:inference:168 - ~~~~~~~~~~~img size: [300,300]\n",
      "2021-12-12 02:21:46.945 | INFO     | realtime:inference:169 - Infer time: 0.0170s\n",
      "2021-12-12 02:21:46.975 | INFO     | realtime:inference:168 - ~~~~~~~~~~~img size: [669,500]\n",
      "2021-12-12 02:21:46.976 | INFO     | realtime:inference:169 - Infer time: 0.0170s\n",
      "2021-12-12 02:21:46.999 | INFO     | realtime:inference:168 - ~~~~~~~~~~~img size: [333,500]\n",
      "2021-12-12 02:21:47.000 | INFO     | realtime:inference:169 - Infer time: 0.0150s\n",
      "2021-12-12 02:21:47.027 | INFO     | realtime:inference:168 - ~~~~~~~~~~~img size: [500,500]\n",
      "2021-12-12 02:21:47.028 | INFO     | realtime:inference:169 - Infer time: 0.0150s\n",
      "2021-12-12 02:21:47.052 | INFO     | realtime:inference:168 - ~~~~~~~~~~~img size: [442,500]\n"
     ]
    },
    {
     "name": "stdout",
     "output_type": "stream",
     "text": [
      "{'id': 0, 'file_name': '224.png'}\n",
      "{'id': 0, 'file_name': '225.png'}\n",
      "{'id': 0, 'file_name': '226.png'}\n",
      "{'id': 0, 'file_name': '227.png'}\n",
      "{'id': 0, 'file_name': '228.png'}\n",
      "{'id': 0, 'file_name': '229.png'}\n",
      "{'id': 0, 'file_name': '23.png'}\n"
     ]
    },
    {
     "name": "stderr",
     "output_type": "stream",
     "text": [
      "2021-12-12 02:21:47.053 | INFO     | realtime:inference:169 - Infer time: 0.0150s\n",
      "2021-12-12 02:21:47.076 | INFO     | realtime:inference:168 - ~~~~~~~~~~~img size: [667,500]\n",
      "2021-12-12 02:21:47.077 | INFO     | realtime:inference:169 - Infer time: 0.0150s\n",
      "2021-12-12 02:21:47.104 | INFO     | realtime:inference:168 - ~~~~~~~~~~~img size: [667,500]\n",
      "2021-12-12 02:21:47.104 | INFO     | realtime:inference:169 - Infer time: 0.0160s\n",
      "2021-12-12 02:21:47.129 | INFO     | realtime:inference:168 - ~~~~~~~~~~~img size: [500,375]\n",
      "2021-12-12 02:21:47.129 | INFO     | realtime:inference:169 - Infer time: 0.0150s\n",
      "2021-12-12 02:21:47.151 | INFO     | realtime:inference:168 - ~~~~~~~~~~~img size: [716,500]\n",
      "2021-12-12 02:21:47.152 | INFO     | realtime:inference:169 - Infer time: 0.0150s\n",
      "2021-12-12 02:21:47.187 | INFO     | realtime:inference:168 - ~~~~~~~~~~~img size: [667,500]\n",
      "2021-12-12 02:21:47.187 | INFO     | realtime:inference:169 - Infer time: 0.0150s\n",
      "2021-12-12 02:21:47.211 | INFO     | realtime:inference:168 - ~~~~~~~~~~~img size: [300,521]\n",
      "2021-12-12 02:21:47.211 | INFO     | realtime:inference:169 - Infer time: 0.0150s\n",
      "2021-12-12 02:21:47.236 | INFO     | realtime:inference:168 - ~~~~~~~~~~~img size: [500,500]\n",
      "2021-12-12 02:21:47.237 | INFO     | realtime:inference:169 - Infer time: 0.0150s\n"
     ]
    },
    {
     "name": "stdout",
     "output_type": "stream",
     "text": [
      "{'id': 0, 'file_name': '230.png'}\n",
      "{'id': 0, 'file_name': '231.png'}\n",
      "{'id': 0, 'file_name': '232.png'}\n",
      "{'id': 0, 'file_name': '233.png'}\n",
      "{'id': 0, 'file_name': '234.png'}\n",
      "{'id': 0, 'file_name': '235.png'}\n",
      "{'id': 0, 'file_name': '236.png'}\n",
      "{'id': 0, 'file_name': '237.png'}\n"
     ]
    },
    {
     "name": "stderr",
     "output_type": "stream",
     "text": [
      "2021-12-12 02:21:47.261 | INFO     | realtime:inference:168 - ~~~~~~~~~~~img size: [190,230]\n",
      "2021-12-12 02:21:47.262 | INFO     | realtime:inference:169 - Infer time: 0.0160s\n",
      "2021-12-12 02:21:47.287 | INFO     | realtime:inference:168 - ~~~~~~~~~~~img size: [500,500]\n",
      "2021-12-12 02:21:47.288 | INFO     | realtime:inference:169 - Infer time: 0.0150s\n",
      "2021-12-12 02:21:47.312 | INFO     | realtime:inference:168 - ~~~~~~~~~~~img size: [500,500]\n",
      "2021-12-12 02:21:47.312 | INFO     | realtime:inference:169 - Infer time: 0.0140s\n",
      "2021-12-12 02:21:47.337 | INFO     | realtime:inference:168 - ~~~~~~~~~~~img size: [500,500]\n",
      "2021-12-12 02:21:47.338 | INFO     | realtime:inference:169 - Infer time: 0.0150s\n",
      "2021-12-12 02:21:47.361 | INFO     | realtime:inference:168 - ~~~~~~~~~~~img size: [310,310]\n",
      "2021-12-12 02:21:47.361 | INFO     | realtime:inference:169 - Infer time: 0.0140s\n",
      "2021-12-12 02:21:47.384 | INFO     | realtime:inference:168 - ~~~~~~~~~~~img size: [500,500]\n",
      "2021-12-12 02:21:47.384 | INFO     | realtime:inference:169 - Infer time: 0.0150s\n",
      "2021-12-12 02:21:47.409 | INFO     | realtime:inference:168 - ~~~~~~~~~~~img size: [500,500]\n",
      "2021-12-12 02:21:47.410 | INFO     | realtime:inference:169 - Infer time: 0.0150s\n",
      "2021-12-12 02:21:47.434 | INFO     | realtime:inference:168 - ~~~~~~~~~~~img size: [888,500]\n",
      "2021-12-12 02:21:47.434 | INFO     | realtime:inference:169 - Infer time: 0.0140s\n"
     ]
    },
    {
     "name": "stdout",
     "output_type": "stream",
     "text": [
      "{'id': 0, 'file_name': '238.png'}\n",
      "{'id': 0, 'file_name': '239.png'}\n",
      "{'id': 0, 'file_name': '24.png'}\n",
      "{'id': 0, 'file_name': '240.png'}\n",
      "{'id': 0, 'file_name': '241.png'}\n",
      "{'id': 0, 'file_name': '242.png'}\n",
      "{'id': 0, 'file_name': '243.png'}\n",
      "{'id': 0, 'file_name': '244.png'}\n"
     ]
    },
    {
     "name": "stderr",
     "output_type": "stream",
     "text": [
      "2021-12-12 02:21:47.460 | INFO     | realtime:inference:168 - ~~~~~~~~~~~img size: [375,500]\n",
      "2021-12-12 02:21:47.461 | INFO     | realtime:inference:169 - Infer time: 0.0150s\n",
      "2021-12-12 02:21:47.487 | INFO     | realtime:inference:168 - ~~~~~~~~~~~img size: [325,499]\n",
      "2021-12-12 02:21:47.487 | INFO     | realtime:inference:169 - Infer time: 0.0150s\n",
      "2021-12-12 02:21:47.510 | INFO     | realtime:inference:168 - ~~~~~~~~~~~img size: [496,500]\n",
      "2021-12-12 02:21:47.511 | INFO     | realtime:inference:169 - Infer time: 0.0150s\n",
      "2021-12-12 02:21:47.535 | INFO     | realtime:inference:168 - ~~~~~~~~~~~img size: [270,270]\n",
      "2021-12-12 02:21:47.535 | INFO     | realtime:inference:169 - Infer time: 0.0140s\n",
      "2021-12-12 02:21:47.563 | INFO     | realtime:inference:168 - ~~~~~~~~~~~img size: [500,500]\n",
      "2021-12-12 02:21:47.564 | INFO     | realtime:inference:169 - Infer time: 0.0150s\n",
      "2021-12-12 02:21:47.590 | INFO     | realtime:inference:168 - ~~~~~~~~~~~img size: [500,500]\n",
      "2021-12-12 02:21:47.591 | INFO     | realtime:inference:169 - Infer time: 0.0150s\n",
      "2021-12-12 02:21:47.614 | INFO     | realtime:inference:168 - ~~~~~~~~~~~img size: [500,500]\n",
      "2021-12-12 02:21:47.615 | INFO     | realtime:inference:169 - Infer time: 0.0150s\n",
      "2021-12-12 02:21:47.638 | INFO     | realtime:inference:168 - ~~~~~~~~~~~img size: [667,500]\n",
      "2021-12-12 02:21:47.638 | INFO     | realtime:inference:169 - Infer time: 0.0140s\n",
      "2021-12-12 02:21:47.662 | INFO     | realtime:inference:168 - ~~~~~~~~~~~img size: [500,500]\n"
     ]
    },
    {
     "name": "stdout",
     "output_type": "stream",
     "text": [
      "{'id': 0, 'file_name': '245.png'}\n",
      "{'id': 0, 'file_name': '246.png'}\n",
      "{'id': 0, 'file_name': '247.png'}\n",
      "{'id': 0, 'file_name': '248.png'}\n",
      "{'id': 0, 'file_name': '249.png'}\n",
      "{'id': 0, 'file_name': '25.png'}\n",
      "{'id': 0, 'file_name': '250.png'}\n",
      "{'id': 0, 'file_name': '251.png'}\n"
     ]
    },
    {
     "name": "stderr",
     "output_type": "stream",
     "text": [
      "2021-12-12 02:21:47.663 | INFO     | realtime:inference:169 - Infer time: 0.0150s\n",
      "2021-12-12 02:21:47.689 | INFO     | realtime:inference:168 - ~~~~~~~~~~~img size: [667,500]\n",
      "2021-12-12 02:21:47.690 | INFO     | realtime:inference:169 - Infer time: 0.0150s\n",
      "2021-12-12 02:21:47.710 | INFO     | realtime:inference:168 - ~~~~~~~~~~~img size: [500,375]\n",
      "2021-12-12 02:21:47.711 | INFO     | realtime:inference:169 - Infer time: 0.0150s\n",
      "2021-12-12 02:21:47.735 | INFO     | realtime:inference:168 - ~~~~~~~~~~~img size: [699,500]\n",
      "2021-12-12 02:21:47.736 | INFO     | realtime:inference:169 - Infer time: 0.0150s\n",
      "2021-12-12 02:21:47.757 | INFO     | realtime:inference:168 - ~~~~~~~~~~~img size: [150,150]\n",
      "2021-12-12 02:21:47.758 | INFO     | realtime:inference:169 - Infer time: 0.0150s\n",
      "2021-12-12 02:21:47.780 | INFO     | realtime:inference:168 - ~~~~~~~~~~~img size: [500,500]\n",
      "2021-12-12 02:21:47.781 | INFO     | realtime:inference:169 - Infer time: 0.0150s\n",
      "2021-12-12 02:21:47.806 | INFO     | realtime:inference:168 - ~~~~~~~~~~~img size: [500,500]\n",
      "2021-12-12 02:21:47.807 | INFO     | realtime:inference:169 - Infer time: 0.0150s\n",
      "2021-12-12 02:21:47.830 | INFO     | realtime:inference:168 - ~~~~~~~~~~~img size: [500,500]\n",
      "2021-12-12 02:21:47.830 | INFO     | realtime:inference:169 - Infer time: 0.0140s\n",
      "2021-12-12 02:21:47.854 | INFO     | realtime:inference:168 - ~~~~~~~~~~~img size: [500,500]\n"
     ]
    },
    {
     "name": "stdout",
     "output_type": "stream",
     "text": [
      "{'id': 0, 'file_name': '252.png'}\n",
      "{'id': 0, 'file_name': '253.png'}\n",
      "{'id': 0, 'file_name': '254.png'}\n",
      "{'id': 0, 'file_name': '255.png'}\n",
      "{'id': 0, 'file_name': '256.png'}\n",
      "{'id': 0, 'file_name': '257.png'}\n",
      "{'id': 0, 'file_name': '258.png'}\n",
      "{'id': 0, 'file_name': '259.png'}\n"
     ]
    },
    {
     "name": "stderr",
     "output_type": "stream",
     "text": [
      "2021-12-12 02:21:47.855 | INFO     | realtime:inference:169 - Infer time: 0.0150s\n",
      "2021-12-12 02:21:47.878 | INFO     | realtime:inference:168 - ~~~~~~~~~~~img size: [500,500]\n",
      "2021-12-12 02:21:47.879 | INFO     | realtime:inference:169 - Infer time: 0.0150s\n",
      "2021-12-12 02:21:47.903 | INFO     | realtime:inference:168 - ~~~~~~~~~~~img size: [220,220]\n",
      "2021-12-12 02:21:47.904 | INFO     | realtime:inference:169 - Infer time: 0.0150s\n",
      "2021-12-12 02:21:47.927 | INFO     | realtime:inference:168 - ~~~~~~~~~~~img size: [500,500]\n",
      "2021-12-12 02:21:47.928 | INFO     | realtime:inference:169 - Infer time: 0.0150s\n",
      "2021-12-12 02:21:47.950 | INFO     | realtime:inference:168 - ~~~~~~~~~~~img size: [500,500]\n",
      "2021-12-12 02:21:47.951 | INFO     | realtime:inference:169 - Infer time: 0.0150s\n",
      "2021-12-12 02:21:47.976 | INFO     | realtime:inference:168 - ~~~~~~~~~~~img size: [500,500]\n",
      "2021-12-12 02:21:47.977 | INFO     | realtime:inference:169 - Infer time: 0.0150s\n",
      "2021-12-12 02:21:48.000 | INFO     | realtime:inference:168 - ~~~~~~~~~~~img size: [499,500]\n",
      "2021-12-12 02:21:48.001 | INFO     | realtime:inference:169 - Infer time: 0.0150s\n",
      "2021-12-12 02:21:48.025 | INFO     | realtime:inference:168 - ~~~~~~~~~~~img size: [400,400]\n",
      "2021-12-12 02:21:48.025 | INFO     | realtime:inference:169 - Infer time: 0.0140s\n",
      "2021-12-12 02:21:48.048 | INFO     | realtime:inference:168 - ~~~~~~~~~~~img size: [391,500]\n"
     ]
    },
    {
     "name": "stdout",
     "output_type": "stream",
     "text": [
      "{'id': 0, 'file_name': '26.png'}\n",
      "{'id': 0, 'file_name': '260.png'}\n",
      "{'id': 0, 'file_name': '261.png'}\n",
      "{'id': 0, 'file_name': '262.png'}\n",
      "{'id': 0, 'file_name': '263.png'}\n",
      "{'id': 0, 'file_name': '264.png'}\n",
      "{'id': 0, 'file_name': '265.png'}\n",
      "{'id': 0, 'file_name': '266.png'}\n"
     ]
    },
    {
     "name": "stderr",
     "output_type": "stream",
     "text": [
      "2021-12-12 02:21:48.048 | INFO     | realtime:inference:169 - Infer time: 0.0140s\n",
      "2021-12-12 02:21:48.075 | INFO     | realtime:inference:168 - ~~~~~~~~~~~img size: [500,500]\n",
      "2021-12-12 02:21:48.075 | INFO     | realtime:inference:169 - Infer time: 0.0140s\n",
      "2021-12-12 02:21:48.099 | INFO     | realtime:inference:168 - ~~~~~~~~~~~img size: [500,500]\n",
      "2021-12-12 02:21:48.100 | INFO     | realtime:inference:169 - Infer time: 0.0170s\n",
      "2021-12-12 02:21:48.126 | INFO     | realtime:inference:168 - ~~~~~~~~~~~img size: [500,500]\n",
      "2021-12-12 02:21:48.127 | INFO     | realtime:inference:169 - Infer time: 0.0150s\n",
      "2021-12-12 02:21:48.149 | INFO     | realtime:inference:168 - ~~~~~~~~~~~img size: [500,500]\n",
      "2021-12-12 02:21:48.150 | INFO     | realtime:inference:169 - Infer time: 0.0150s\n",
      "2021-12-12 02:21:48.177 | INFO     | realtime:inference:168 - ~~~~~~~~~~~img size: [500,500]\n",
      "2021-12-12 02:21:48.178 | INFO     | realtime:inference:169 - Infer time: 0.0150s\n",
      "2021-12-12 02:21:48.206 | INFO     | realtime:inference:168 - ~~~~~~~~~~~img size: [462,500]\n",
      "2021-12-12 02:21:48.206 | INFO     | realtime:inference:169 - Infer time: 0.0140s\n",
      "2021-12-12 02:21:48.228 | INFO     | realtime:inference:168 - ~~~~~~~~~~~img size: [666,500]\n",
      "2021-12-12 02:21:48.229 | INFO     | realtime:inference:169 - Infer time: 0.0150s\n",
      "2021-12-12 02:21:48.251 | INFO     | realtime:inference:168 - ~~~~~~~~~~~img size: [667,500]\n"
     ]
    },
    {
     "name": "stdout",
     "output_type": "stream",
     "text": [
      "{'id': 0, 'file_name': '267.png'}\n",
      "{'id': 0, 'file_name': '268.png'}\n",
      "{'id': 0, 'file_name': '269.png'}\n",
      "{'id': 0, 'file_name': '27.png'}\n",
      "{'id': 0, 'file_name': '270.png'}\n",
      "{'id': 0, 'file_name': '271.png'}\n",
      "{'id': 0, 'file_name': '272.png'}\n",
      "{'id': 0, 'file_name': '273.png'}\n"
     ]
    },
    {
     "name": "stderr",
     "output_type": "stream",
     "text": [
      "2021-12-12 02:21:48.252 | INFO     | realtime:inference:169 - Infer time: 0.0150s\n",
      "2021-12-12 02:21:48.278 | INFO     | realtime:inference:168 - ~~~~~~~~~~~img size: [500,500]\n",
      "2021-12-12 02:21:48.279 | INFO     | realtime:inference:169 - Infer time: 0.0160s\n",
      "2021-12-12 02:21:48.301 | INFO     | realtime:inference:168 - ~~~~~~~~~~~img size: [500,500]\n",
      "2021-12-12 02:21:48.302 | INFO     | realtime:inference:169 - Infer time: 0.0150s\n",
      "2021-12-12 02:21:48.325 | INFO     | realtime:inference:168 - ~~~~~~~~~~~img size: [300,603]\n",
      "2021-12-12 02:21:48.326 | INFO     | realtime:inference:169 - Infer time: 0.0150s\n",
      "2021-12-12 02:21:48.348 | INFO     | realtime:inference:168 - ~~~~~~~~~~~img size: [500,500]\n",
      "2021-12-12 02:21:48.349 | INFO     | realtime:inference:169 - Infer time: 0.0150s\n",
      "2021-12-12 02:21:48.372 | INFO     | realtime:inference:168 - ~~~~~~~~~~~img size: [460,500]\n",
      "2021-12-12 02:21:48.372 | INFO     | realtime:inference:169 - Infer time: 0.0140s\n",
      "2021-12-12 02:21:48.397 | INFO     | realtime:inference:168 - ~~~~~~~~~~~img size: [500,500]\n",
      "2021-12-12 02:21:48.398 | INFO     | realtime:inference:169 - Infer time: 0.0150s\n",
      "2021-12-12 02:21:48.421 | INFO     | realtime:inference:168 - ~~~~~~~~~~~img size: [500,500]\n",
      "2021-12-12 02:21:48.422 | INFO     | realtime:inference:169 - Infer time: 0.0150s\n",
      "2021-12-12 02:21:48.443 | INFO     | realtime:inference:168 - ~~~~~~~~~~~img size: [220,220]\n"
     ]
    },
    {
     "name": "stdout",
     "output_type": "stream",
     "text": [
      "{'id': 0, 'file_name': '274.png'}\n",
      "{'id': 0, 'file_name': '275.png'}\n",
      "{'id': 0, 'file_name': '276.png'}\n",
      "{'id': 0, 'file_name': '277.png'}\n",
      "{'id': 0, 'file_name': '278.png'}\n",
      "{'id': 0, 'file_name': '279.png'}\n",
      "{'id': 0, 'file_name': '28.png'}\n",
      "{'id': 0, 'file_name': '280.png'}\n"
     ]
    },
    {
     "name": "stderr",
     "output_type": "stream",
     "text": [
      "2021-12-12 02:21:48.444 | INFO     | realtime:inference:169 - Infer time: 0.0150s\n",
      "2021-12-12 02:21:48.468 | INFO     | realtime:inference:168 - ~~~~~~~~~~~img size: [538,500]\n",
      "2021-12-12 02:21:48.469 | INFO     | realtime:inference:169 - Infer time: 0.0150s\n",
      "2021-12-12 02:21:48.493 | INFO     | realtime:inference:168 - ~~~~~~~~~~~img size: [667,500]\n",
      "2021-12-12 02:21:48.494 | INFO     | realtime:inference:169 - Infer time: 0.0150s\n",
      "2021-12-12 02:21:48.518 | INFO     | realtime:inference:168 - ~~~~~~~~~~~img size: [500,500]\n",
      "2021-12-12 02:21:48.518 | INFO     | realtime:inference:169 - Infer time: 0.0140s\n",
      "2021-12-12 02:21:48.541 | INFO     | realtime:inference:168 - ~~~~~~~~~~~img size: [500,500]\n",
      "2021-12-12 02:21:48.542 | INFO     | realtime:inference:169 - Infer time: 0.0160s\n",
      "2021-12-12 02:21:48.576 | INFO     | realtime:inference:168 - ~~~~~~~~~~~img size: [500,500]\n",
      "2021-12-12 02:21:48.576 | INFO     | realtime:inference:169 - Infer time: 0.0190s\n",
      "2021-12-12 02:21:48.601 | INFO     | realtime:inference:168 - ~~~~~~~~~~~img size: [350,350]\n",
      "2021-12-12 02:21:48.602 | INFO     | realtime:inference:169 - Infer time: 0.0160s\n",
      "2021-12-12 02:21:48.627 | INFO     | realtime:inference:168 - ~~~~~~~~~~~img size: [868,500]\n",
      "2021-12-12 02:21:48.628 | INFO     | realtime:inference:169 - Infer time: 0.0150s\n"
     ]
    },
    {
     "name": "stdout",
     "output_type": "stream",
     "text": [
      "{'id': 0, 'file_name': '281.png'}\n",
      "{'id': 0, 'file_name': '282.png'}\n",
      "{'id': 0, 'file_name': '283.png'}\n",
      "{'id': 0, 'file_name': '284.png'}\n",
      "{'id': 0, 'file_name': '285.png'}\n",
      "{'id': 0, 'file_name': '286.png'}\n",
      "{'id': 0, 'file_name': '287.png'}\n"
     ]
    },
    {
     "name": "stderr",
     "output_type": "stream",
     "text": [
      "2021-12-12 02:21:48.654 | INFO     | realtime:inference:168 - ~~~~~~~~~~~img size: [889,500]\n",
      "2021-12-12 02:21:48.655 | INFO     | realtime:inference:169 - Infer time: 0.0160s\n",
      "2021-12-12 02:21:48.679 | INFO     | realtime:inference:168 - ~~~~~~~~~~~img size: [500,500]\n",
      "2021-12-12 02:21:48.680 | INFO     | realtime:inference:169 - Infer time: 0.0170s\n",
      "2021-12-12 02:21:48.702 | INFO     | realtime:inference:168 - ~~~~~~~~~~~img size: [220,220]\n",
      "2021-12-12 02:21:48.703 | INFO     | realtime:inference:169 - Infer time: 0.0150s\n",
      "2021-12-12 02:21:48.727 | INFO     | realtime:inference:168 - ~~~~~~~~~~~img size: [488,500]\n",
      "2021-12-12 02:21:48.728 | INFO     | realtime:inference:169 - Infer time: 0.0150s\n",
      "2021-12-12 02:21:48.752 | INFO     | realtime:inference:168 - ~~~~~~~~~~~img size: [220,220]\n",
      "2021-12-12 02:21:48.753 | INFO     | realtime:inference:169 - Infer time: 0.0150s\n",
      "2021-12-12 02:21:48.775 | INFO     | realtime:inference:168 - ~~~~~~~~~~~img size: [376,500]\n",
      "2021-12-12 02:21:48.776 | INFO     | realtime:inference:169 - Infer time: 0.0140s\n",
      "2021-12-12 02:21:48.796 | INFO     | realtime:inference:168 - ~~~~~~~~~~~img size: [500,329]\n",
      "2021-12-12 02:21:48.797 | INFO     | realtime:inference:169 - Infer time: 0.0150s\n",
      "2021-12-12 02:21:48.823 | INFO     | realtime:inference:168 - ~~~~~~~~~~~img size: [400,400]\n"
     ]
    },
    {
     "name": "stdout",
     "output_type": "stream",
     "text": [
      "{'id': 0, 'file_name': '288.png'}\n",
      "{'id': 0, 'file_name': '289.png'}\n",
      "{'id': 0, 'file_name': '29.png'}\n",
      "{'id': 0, 'file_name': '290.png'}\n",
      "{'id': 0, 'file_name': '291.png'}\n",
      "{'id': 0, 'file_name': '292.png'}\n",
      "{'id': 0, 'file_name': '293.png'}\n",
      "{'id': 0, 'file_name': '294.png'}\n"
     ]
    },
    {
     "name": "stderr",
     "output_type": "stream",
     "text": [
      "2021-12-12 02:21:48.823 | INFO     | realtime:inference:169 - Infer time: 0.0160s\n",
      "2021-12-12 02:21:48.853 | INFO     | realtime:inference:168 - ~~~~~~~~~~~img size: [794,500]\n",
      "2021-12-12 02:21:48.854 | INFO     | realtime:inference:169 - Infer time: 0.0170s\n",
      "2021-12-12 02:21:48.879 | INFO     | realtime:inference:168 - ~~~~~~~~~~~img size: [500,500]\n",
      "2021-12-12 02:21:48.879 | INFO     | realtime:inference:169 - Infer time: 0.0140s\n",
      "2021-12-12 02:21:48.907 | INFO     | realtime:inference:168 - ~~~~~~~~~~~img size: [500,500]\n",
      "2021-12-12 02:21:48.908 | INFO     | realtime:inference:169 - Infer time: 0.0150s\n",
      "2021-12-12 02:21:48.934 | INFO     | realtime:inference:168 - ~~~~~~~~~~~img size: [600,600]\n",
      "2021-12-12 02:21:48.935 | INFO     | realtime:inference:169 - Infer time: 0.0150s\n",
      "2021-12-12 02:21:48.962 | INFO     | realtime:inference:168 - ~~~~~~~~~~~img size: [500,500]\n",
      "2021-12-12 02:21:48.963 | INFO     | realtime:inference:169 - Infer time: 0.0150s\n",
      "2021-12-12 02:21:48.986 | INFO     | realtime:inference:168 - ~~~~~~~~~~~img size: [346,400]\n",
      "2021-12-12 02:21:48.987 | INFO     | realtime:inference:169 - Infer time: 0.0150s\n",
      "2021-12-12 02:21:49.007 | INFO     | realtime:inference:168 - ~~~~~~~~~~~img size: [220,220]\n",
      "2021-12-12 02:21:49.008 | INFO     | realtime:inference:169 - Infer time: 0.0150s\n",
      "2021-12-12 02:21:49.032 | INFO     | realtime:inference:168 - ~~~~~~~~~~~img size: [500,500]\n"
     ]
    },
    {
     "name": "stdout",
     "output_type": "stream",
     "text": [
      "{'id': 0, 'file_name': '295.png'}\n",
      "{'id': 0, 'file_name': '296.png'}\n",
      "{'id': 0, 'file_name': '297.png'}\n",
      "{'id': 0, 'file_name': '298.png'}\n",
      "{'id': 0, 'file_name': '299.png'}\n",
      "{'id': 0, 'file_name': '3.png'}\n",
      "{'id': 0, 'file_name': '30.png'}\n",
      "{'id': 0, 'file_name': '31.png'}\n"
     ]
    },
    {
     "name": "stderr",
     "output_type": "stream",
     "text": [
      "2021-12-12 02:21:49.033 | INFO     | realtime:inference:169 - Infer time: 0.0150s\n",
      "2021-12-12 02:21:49.059 | INFO     | realtime:inference:168 - ~~~~~~~~~~~img size: [500,500]\n",
      "2021-12-12 02:21:49.060 | INFO     | realtime:inference:169 - Infer time: 0.0150s\n",
      "2021-12-12 02:21:49.085 | INFO     | realtime:inference:168 - ~~~~~~~~~~~img size: [333,500]\n",
      "2021-12-12 02:21:49.086 | INFO     | realtime:inference:169 - Infer time: 0.0160s\n",
      "2021-12-12 02:21:49.115 | INFO     | realtime:inference:168 - ~~~~~~~~~~~img size: [500,500]\n",
      "2021-12-12 02:21:49.116 | INFO     | realtime:inference:169 - Infer time: 0.0200s\n",
      "2021-12-12 02:21:49.147 | INFO     | realtime:inference:168 - ~~~~~~~~~~~img size: [500,500]\n",
      "2021-12-12 02:21:49.148 | INFO     | realtime:inference:169 - Infer time: 0.0180s\n",
      "2021-12-12 02:21:49.175 | INFO     | realtime:inference:168 - ~~~~~~~~~~~img size: [220,220]\n",
      "2021-12-12 02:21:49.176 | INFO     | realtime:inference:169 - Infer time: 0.0180s\n",
      "2021-12-12 02:21:49.207 | INFO     | realtime:inference:168 - ~~~~~~~~~~~img size: [669,500]\n",
      "2021-12-12 02:21:49.208 | INFO     | realtime:inference:169 - Infer time: 0.0190s\n"
     ]
    },
    {
     "name": "stdout",
     "output_type": "stream",
     "text": [
      "{'id': 0, 'file_name': '32.png'}\n",
      "{'id': 0, 'file_name': '33.png'}\n",
      "{'id': 0, 'file_name': '34.png'}\n",
      "{'id': 0, 'file_name': '35.png'}\n",
      "{'id': 0, 'file_name': '36.png'}\n",
      "{'id': 0, 'file_name': '37.png'}\n",
      "{'id': 0, 'file_name': '38.png'}\n"
     ]
    },
    {
     "name": "stderr",
     "output_type": "stream",
     "text": [
      "2021-12-12 02:21:49.268 | INFO     | realtime:inference:168 - ~~~~~~~~~~~img size: [400,400]\n",
      "2021-12-12 02:21:49.269 | INFO     | realtime:inference:169 - Infer time: 0.0440s\n",
      "2021-12-12 02:21:49.302 | INFO     | realtime:inference:168 - ~~~~~~~~~~~img size: [452,500]\n",
      "2021-12-12 02:21:49.302 | INFO     | realtime:inference:169 - Infer time: 0.0210s\n",
      "2021-12-12 02:21:49.345 | INFO     | realtime:inference:168 - ~~~~~~~~~~~img size: [500,500]\n",
      "2021-12-12 02:21:49.345 | INFO     | realtime:inference:169 - Infer time: 0.0220s\n",
      "2021-12-12 02:21:49.375 | INFO     | realtime:inference:168 - ~~~~~~~~~~~img size: [332,500]\n",
      "2021-12-12 02:21:49.376 | INFO     | realtime:inference:169 - Infer time: 0.0200s\n",
      "2021-12-12 02:21:49.404 | INFO     | realtime:inference:168 - ~~~~~~~~~~~img size: [500,500]\n",
      "2021-12-12 02:21:49.405 | INFO     | realtime:inference:169 - Infer time: 0.0180s\n",
      "2021-12-12 02:21:49.434 | INFO     | realtime:inference:168 - ~~~~~~~~~~~img size: [634,500]\n",
      "2021-12-12 02:21:49.434 | INFO     | realtime:inference:169 - Infer time: 0.0150s\n",
      "2021-12-12 02:21:49.464 | INFO     | realtime:inference:168 - ~~~~~~~~~~~img size: [376,500]\n"
     ]
    },
    {
     "name": "stdout",
     "output_type": "stream",
     "text": [
      "{'id': 0, 'file_name': '39.png'}\n",
      "{'id': 0, 'file_name': '4.png'}\n",
      "{'id': 0, 'file_name': '40.png'}\n",
      "{'id': 0, 'file_name': '41.png'}\n",
      "{'id': 0, 'file_name': '42.png'}\n",
      "{'id': 0, 'file_name': '43.png'}\n"
     ]
    },
    {
     "name": "stderr",
     "output_type": "stream",
     "text": [
      "2021-12-12 02:21:49.465 | INFO     | realtime:inference:169 - Infer time: 0.0210s\n",
      "2021-12-12 02:21:49.488 | INFO     | realtime:inference:168 - ~~~~~~~~~~~img size: [333,500]\n",
      "2021-12-12 02:21:49.488 | INFO     | realtime:inference:169 - Infer time: 0.0150s\n",
      "2021-12-12 02:21:49.510 | INFO     | realtime:inference:168 - ~~~~~~~~~~~img size: [500,500]\n",
      "2021-12-12 02:21:49.511 | INFO     | realtime:inference:169 - Infer time: 0.0150s\n",
      "2021-12-12 02:21:49.535 | INFO     | realtime:inference:168 - ~~~~~~~~~~~img size: [500,500]\n",
      "2021-12-12 02:21:49.535 | INFO     | realtime:inference:169 - Infer time: 0.0140s\n",
      "2021-12-12 02:21:49.559 | INFO     | realtime:inference:168 - ~~~~~~~~~~~img size: [500,500]\n",
      "2021-12-12 02:21:49.559 | INFO     | realtime:inference:169 - Infer time: 0.0150s\n",
      "2021-12-12 02:21:49.583 | INFO     | realtime:inference:168 - ~~~~~~~~~~~img size: [500,500]\n",
      "2021-12-12 02:21:49.584 | INFO     | realtime:inference:169 - Infer time: 0.0160s\n",
      "2021-12-12 02:21:49.605 | INFO     | realtime:inference:168 - ~~~~~~~~~~~img size: [194,210]\n",
      "2021-12-12 02:21:49.606 | INFO     | realtime:inference:169 - Infer time: 0.0150s\n",
      "2021-12-12 02:21:49.627 | INFO     | realtime:inference:168 - ~~~~~~~~~~~img size: [479,500]\n",
      "2021-12-12 02:21:49.628 | INFO     | realtime:inference:169 - Infer time: 0.0150s\n",
      "2021-12-12 02:21:49.654 | INFO     | realtime:inference:168 - ~~~~~~~~~~~img size: [500,500]\n"
     ]
    },
    {
     "name": "stdout",
     "output_type": "stream",
     "text": [
      "{'id': 0, 'file_name': '44.png'}\n",
      "{'id': 0, 'file_name': '45.png'}\n",
      "{'id': 0, 'file_name': '46.png'}\n",
      "{'id': 0, 'file_name': '47.png'}\n",
      "{'id': 0, 'file_name': '48.png'}\n",
      "{'id': 0, 'file_name': '49.png'}\n",
      "{'id': 0, 'file_name': '5.png'}\n",
      "{'id': 0, 'file_name': '50.png'}\n"
     ]
    },
    {
     "name": "stderr",
     "output_type": "stream",
     "text": [
      "2021-12-12 02:21:49.655 | INFO     | realtime:inference:169 - Infer time: 0.0150s\n",
      "2021-12-12 02:21:49.683 | INFO     | realtime:inference:168 - ~~~~~~~~~~~img size: [500,500]\n",
      "2021-12-12 02:21:49.684 | INFO     | realtime:inference:169 - Infer time: 0.0150s\n",
      "2021-12-12 02:21:49.707 | INFO     | realtime:inference:168 - ~~~~~~~~~~~img size: [500,500]\n",
      "2021-12-12 02:21:49.708 | INFO     | realtime:inference:169 - Infer time: 0.0150s\n",
      "2021-12-12 02:21:49.731 | INFO     | realtime:inference:168 - ~~~~~~~~~~~img size: [284,300]\n",
      "2021-12-12 02:21:49.732 | INFO     | realtime:inference:169 - Infer time: 0.0150s\n",
      "2021-12-12 02:21:49.758 | INFO     | realtime:inference:168 - ~~~~~~~~~~~img size: [500,500]\n",
      "2021-12-12 02:21:49.758 | INFO     | realtime:inference:169 - Infer time: 0.0140s\n",
      "2021-12-12 02:21:49.781 | INFO     | realtime:inference:168 - ~~~~~~~~~~~img size: [500,500]\n",
      "2021-12-12 02:21:49.782 | INFO     | realtime:inference:169 - Infer time: 0.0150s\n",
      "2021-12-12 02:21:49.809 | INFO     | realtime:inference:168 - ~~~~~~~~~~~img size: [500,500]\n",
      "2021-12-12 02:21:49.809 | INFO     | realtime:inference:169 - Infer time: 0.0150s\n",
      "2021-12-12 02:21:49.833 | INFO     | realtime:inference:168 - ~~~~~~~~~~~img size: [500,500]\n",
      "2021-12-12 02:21:49.833 | INFO     | realtime:inference:169 - Infer time: 0.0150s\n",
      "2021-12-12 02:21:49.857 | INFO     | realtime:inference:168 - ~~~~~~~~~~~img size: [500,500]\n"
     ]
    },
    {
     "name": "stdout",
     "output_type": "stream",
     "text": [
      "{'id': 0, 'file_name': '51.png'}\n",
      "{'id': 0, 'file_name': '52.png'}\n",
      "{'id': 0, 'file_name': '53.png'}\n",
      "{'id': 0, 'file_name': '54.png'}\n",
      "{'id': 0, 'file_name': '55.png'}\n",
      "{'id': 0, 'file_name': '56.png'}\n",
      "{'id': 0, 'file_name': '57.png'}\n",
      "{'id': 0, 'file_name': '58.png'}\n"
     ]
    },
    {
     "name": "stderr",
     "output_type": "stream",
     "text": [
      "2021-12-12 02:21:49.858 | INFO     | realtime:inference:169 - Infer time: 0.0150s\n",
      "2021-12-12 02:21:49.884 | INFO     | realtime:inference:168 - ~~~~~~~~~~~img size: [500,500]\n",
      "2021-12-12 02:21:49.885 | INFO     | realtime:inference:169 - Infer time: 0.0150s\n",
      "2021-12-12 02:21:49.911 | INFO     | realtime:inference:168 - ~~~~~~~~~~~img size: [500,500]\n",
      "2021-12-12 02:21:49.911 | INFO     | realtime:inference:169 - Infer time: 0.0140s\n",
      "2021-12-12 02:21:49.936 | INFO     | realtime:inference:168 - ~~~~~~~~~~~img size: [500,500]\n",
      "2021-12-12 02:21:49.936 | INFO     | realtime:inference:169 - Infer time: 0.0140s\n",
      "2021-12-12 02:21:49.960 | INFO     | realtime:inference:168 - ~~~~~~~~~~~img size: [220,220]\n",
      "2021-12-12 02:21:49.961 | INFO     | realtime:inference:169 - Infer time: 0.0150s\n",
      "2021-12-12 02:21:49.983 | INFO     | realtime:inference:168 - ~~~~~~~~~~~img size: [400,400]\n",
      "2021-12-12 02:21:49.983 | INFO     | realtime:inference:169 - Infer time: 0.0140s\n",
      "2021-12-12 02:21:50.011 | INFO     | realtime:inference:168 - ~~~~~~~~~~~img size: [500,500]\n",
      "2021-12-12 02:21:50.012 | INFO     | realtime:inference:169 - Infer time: 0.0160s\n",
      "2021-12-12 02:21:50.038 | INFO     | realtime:inference:168 - ~~~~~~~~~~~img size: [500,500]\n",
      "2021-12-12 02:21:50.039 | INFO     | realtime:inference:169 - Infer time: 0.0150s\n"
     ]
    },
    {
     "name": "stdout",
     "output_type": "stream",
     "text": [
      "{'id': 0, 'file_name': '59.png'}\n",
      "{'id': 0, 'file_name': '6.png'}\n",
      "{'id': 0, 'file_name': '60.png'}\n",
      "{'id': 0, 'file_name': '61.png'}\n",
      "{'id': 0, 'file_name': '62.png'}\n",
      "{'id': 0, 'file_name': '63.png'}\n",
      "{'id': 0, 'file_name': '64.png'}\n",
      "{'id': 0, 'file_name': '65.png'}\n"
     ]
    },
    {
     "name": "stderr",
     "output_type": "stream",
     "text": [
      "2021-12-12 02:21:50.063 | INFO     | realtime:inference:168 - ~~~~~~~~~~~img size: [500,375]\n",
      "2021-12-12 02:21:50.064 | INFO     | realtime:inference:169 - Infer time: 0.0150s\n",
      "2021-12-12 02:21:50.087 | INFO     | realtime:inference:168 - ~~~~~~~~~~~img size: [500,500]\n",
      "2021-12-12 02:21:50.088 | INFO     | realtime:inference:169 - Infer time: 0.0150s\n",
      "2021-12-12 02:21:50.112 | INFO     | realtime:inference:168 - ~~~~~~~~~~~img size: [500,500]\n",
      "2021-12-12 02:21:50.113 | INFO     | realtime:inference:169 - Infer time: 0.0140s\n",
      "2021-12-12 02:21:50.137 | INFO     | realtime:inference:168 - ~~~~~~~~~~~img size: [500,500]\n",
      "2021-12-12 02:21:50.138 | INFO     | realtime:inference:169 - Infer time: 0.0150s\n",
      "2021-12-12 02:21:50.159 | INFO     | realtime:inference:168 - ~~~~~~~~~~~img size: [500,500]\n",
      "2021-12-12 02:21:50.160 | INFO     | realtime:inference:169 - Infer time: 0.0140s\n",
      "2021-12-12 02:21:50.185 | INFO     | realtime:inference:168 - ~~~~~~~~~~~img size: [500,500]\n",
      "2021-12-12 02:21:50.186 | INFO     | realtime:inference:169 - Infer time: 0.0150s\n",
      "2021-12-12 02:21:50.217 | INFO     | realtime:inference:168 - ~~~~~~~~~~~img size: [500,500]\n",
      "2021-12-12 02:21:50.217 | INFO     | realtime:inference:169 - Infer time: 0.0150s\n",
      "2021-12-12 02:21:50.243 | INFO     | realtime:inference:168 - ~~~~~~~~~~~img size: [500,500]\n",
      "2021-12-12 02:21:50.244 | INFO     | realtime:inference:169 - Infer time: 0.0150s\n"
     ]
    },
    {
     "name": "stdout",
     "output_type": "stream",
     "text": [
      "{'id': 0, 'file_name': '66.png'}\n",
      "{'id': 0, 'file_name': '67.png'}\n",
      "{'id': 0, 'file_name': '68.png'}\n",
      "{'id': 0, 'file_name': '69.png'}\n",
      "{'id': 0, 'file_name': '7.png'}\n",
      "{'id': 0, 'file_name': '70.png'}\n",
      "{'id': 0, 'file_name': '71.png'}\n",
      "{'id': 0, 'file_name': '72.png'}\n"
     ]
    },
    {
     "name": "stderr",
     "output_type": "stream",
     "text": [
      "2021-12-12 02:21:50.275 | INFO     | realtime:inference:168 - ~~~~~~~~~~~img size: [500,500]\n",
      "2021-12-12 02:21:50.276 | INFO     | realtime:inference:169 - Infer time: 0.0150s\n",
      "2021-12-12 02:21:50.299 | INFO     | realtime:inference:168 - ~~~~~~~~~~~img size: [500,500]\n",
      "2021-12-12 02:21:50.299 | INFO     | realtime:inference:169 - Infer time: 0.0150s\n",
      "2021-12-12 02:21:50.325 | INFO     | realtime:inference:168 - ~~~~~~~~~~~img size: [500,500]\n",
      "2021-12-12 02:21:50.326 | INFO     | realtime:inference:169 - Infer time: 0.0160s\n",
      "2021-12-12 02:21:50.350 | INFO     | realtime:inference:168 - ~~~~~~~~~~~img size: [500,500]\n",
      "2021-12-12 02:21:50.350 | INFO     | realtime:inference:169 - Infer time: 0.0150s\n",
      "2021-12-12 02:21:50.376 | INFO     | realtime:inference:168 - ~~~~~~~~~~~img size: [500,500]\n",
      "2021-12-12 02:21:50.376 | INFO     | realtime:inference:169 - Infer time: 0.0140s\n",
      "2021-12-12 02:21:50.402 | INFO     | realtime:inference:168 - ~~~~~~~~~~~img size: [500,500]\n",
      "2021-12-12 02:21:50.403 | INFO     | realtime:inference:169 - Infer time: 0.0150s\n",
      "2021-12-12 02:21:50.424 | INFO     | realtime:inference:168 - ~~~~~~~~~~~img size: [500,500]\n",
      "2021-12-12 02:21:50.425 | INFO     | realtime:inference:169 - Infer time: 0.0150s\n",
      "2021-12-12 02:21:50.448 | INFO     | realtime:inference:168 - ~~~~~~~~~~~img size: [500,500]\n",
      "2021-12-12 02:21:50.448 | INFO     | realtime:inference:169 - Infer time: 0.0140s\n",
      "2021-12-12 02:21:50.473 | INFO     | realtime:inference:168 - ~~~~~~~~~~~img size: [500,500]\n"
     ]
    },
    {
     "name": "stdout",
     "output_type": "stream",
     "text": [
      "{'id': 0, 'file_name': '73.png'}\n",
      "{'id': 0, 'file_name': '74.png'}\n",
      "{'id': 0, 'file_name': '75.png'}\n",
      "{'id': 0, 'file_name': '76.png'}\n",
      "{'id': 0, 'file_name': '77.png'}\n",
      "{'id': 0, 'file_name': '78.png'}\n",
      "{'id': 0, 'file_name': '79.png'}\n",
      "{'id': 0, 'file_name': '8.png'}\n"
     ]
    },
    {
     "name": "stderr",
     "output_type": "stream",
     "text": [
      "2021-12-12 02:21:50.473 | INFO     | realtime:inference:169 - Infer time: 0.0150s\n",
      "2021-12-12 02:21:50.496 | INFO     | realtime:inference:168 - ~~~~~~~~~~~img size: [500,500]\n",
      "2021-12-12 02:21:50.497 | INFO     | realtime:inference:169 - Infer time: 0.0140s\n",
      "2021-12-12 02:21:50.522 | INFO     | realtime:inference:168 - ~~~~~~~~~~~img size: [500,500]\n",
      "2021-12-12 02:21:50.523 | INFO     | realtime:inference:169 - Infer time: 0.0150s\n",
      "2021-12-12 02:21:50.545 | INFO     | realtime:inference:168 - ~~~~~~~~~~~img size: [255,255]\n",
      "2021-12-12 02:21:50.546 | INFO     | realtime:inference:169 - Infer time: 0.0150s\n",
      "2021-12-12 02:21:50.567 | INFO     | realtime:inference:168 - ~~~~~~~~~~~img size: [310,300]\n",
      "2021-12-12 02:21:50.568 | INFO     | realtime:inference:169 - Infer time: 0.0150s\n",
      "2021-12-12 02:21:50.591 | INFO     | realtime:inference:168 - ~~~~~~~~~~~img size: [1000,500]\n",
      "2021-12-12 02:21:50.592 | INFO     | realtime:inference:169 - Infer time: 0.0150s\n",
      "2021-12-12 02:21:50.624 | INFO     | realtime:inference:168 - ~~~~~~~~~~~img size: [401,400]\n",
      "2021-12-12 02:21:50.625 | INFO     | realtime:inference:169 - Infer time: 0.0150s\n",
      "2021-12-12 02:21:50.650 | INFO     | realtime:inference:168 - ~~~~~~~~~~~img size: [500,500]\n",
      "2021-12-12 02:21:50.650 | INFO     | realtime:inference:169 - Infer time: 0.0140s\n",
      "2021-12-12 02:21:50.674 | INFO     | realtime:inference:168 - ~~~~~~~~~~~img size: [300,533]\n"
     ]
    },
    {
     "name": "stdout",
     "output_type": "stream",
     "text": [
      "{'id': 0, 'file_name': '80.png'}\n",
      "{'id': 0, 'file_name': '81.png'}\n",
      "{'id': 0, 'file_name': '82.png'}\n",
      "{'id': 0, 'file_name': '83.png'}\n",
      "{'id': 0, 'file_name': '84.png'}\n",
      "{'id': 0, 'file_name': '85.png'}\n",
      "{'id': 0, 'file_name': '86.png'}\n",
      "{'id': 0, 'file_name': '87.png'}\n"
     ]
    },
    {
     "name": "stderr",
     "output_type": "stream",
     "text": [
      "2021-12-12 02:21:50.675 | INFO     | realtime:inference:169 - Infer time: 0.0150s\n",
      "2021-12-12 02:21:50.700 | INFO     | realtime:inference:168 - ~~~~~~~~~~~img size: [500,500]\n",
      "2021-12-12 02:21:50.700 | INFO     | realtime:inference:169 - Infer time: 0.0160s\n",
      "2021-12-12 02:21:50.723 | INFO     | realtime:inference:168 - ~~~~~~~~~~~img size: [375,500]\n",
      "2021-12-12 02:21:50.724 | INFO     | realtime:inference:169 - Infer time: 0.0150s\n",
      "2021-12-12 02:21:50.757 | INFO     | realtime:inference:168 - ~~~~~~~~~~~img size: [500,500]\n",
      "2021-12-12 02:21:50.758 | INFO     | realtime:inference:169 - Infer time: 0.0150s\n",
      "2021-12-12 02:21:50.784 | INFO     | realtime:inference:168 - ~~~~~~~~~~~img size: [500,500]\n",
      "2021-12-12 02:21:50.785 | INFO     | realtime:inference:169 - Infer time: 0.0150s\n",
      "2021-12-12 02:21:50.810 | INFO     | realtime:inference:168 - ~~~~~~~~~~~img size: [500,500]\n",
      "2021-12-12 02:21:50.811 | INFO     | realtime:inference:169 - Infer time: 0.0150s\n",
      "2021-12-12 02:21:50.840 | INFO     | realtime:inference:168 - ~~~~~~~~~~~img size: [451,500]\n",
      "2021-12-12 02:21:50.841 | INFO     | realtime:inference:169 - Infer time: 0.0150s\n",
      "2021-12-12 02:21:50.864 | INFO     | realtime:inference:168 - ~~~~~~~~~~~img size: [330,424]\n"
     ]
    },
    {
     "name": "stdout",
     "output_type": "stream",
     "text": [
      "{'id': 0, 'file_name': '88.png'}\n",
      "{'id': 0, 'file_name': '89.png'}\n",
      "{'id': 0, 'file_name': '9.png'}\n",
      "{'id': 0, 'file_name': '90.png'}\n",
      "{'id': 0, 'file_name': '91.png'}\n",
      "{'id': 0, 'file_name': '92.png'}\n",
      "{'id': 0, 'file_name': '93.png'}\n"
     ]
    },
    {
     "name": "stderr",
     "output_type": "stream",
     "text": [
      "2021-12-12 02:21:50.865 | INFO     | realtime:inference:169 - Infer time: 0.0150s\n",
      "2021-12-12 02:21:50.889 | INFO     | realtime:inference:168 - ~~~~~~~~~~~img size: [220,220]\n",
      "2021-12-12 02:21:50.890 | INFO     | realtime:inference:169 - Infer time: 0.0150s\n",
      "2021-12-12 02:21:50.911 | INFO     | realtime:inference:168 - ~~~~~~~~~~~img size: [334,500]\n",
      "2021-12-12 02:21:50.912 | INFO     | realtime:inference:169 - Infer time: 0.0140s\n",
      "2021-12-12 02:21:50.935 | INFO     | realtime:inference:168 - ~~~~~~~~~~~img size: [500,500]\n",
      "2021-12-12 02:21:50.935 | INFO     | realtime:inference:169 - Infer time: 0.0140s\n",
      "2021-12-12 02:21:50.960 | INFO     | realtime:inference:168 - ~~~~~~~~~~~img size: [220,220]\n",
      "2021-12-12 02:21:50.961 | INFO     | realtime:inference:169 - Infer time: 0.0150s\n",
      "2021-12-12 02:21:50.983 | INFO     | realtime:inference:168 - ~~~~~~~~~~~img size: [350,350]\n",
      "2021-12-12 02:21:50.984 | INFO     | realtime:inference:169 - Infer time: 0.0150s\n",
      "2021-12-12 02:21:51.008 | INFO     | realtime:inference:168 - ~~~~~~~~~~~img size: [500,500]\n",
      "2021-12-12 02:21:51.009 | INFO     | realtime:inference:169 - Infer time: 0.0150s\n"
     ]
    },
    {
     "name": "stdout",
     "output_type": "stream",
     "text": [
      "{'id': 0, 'file_name': '94.png'}\n",
      "{'id': 0, 'file_name': '95.png'}\n",
      "{'id': 0, 'file_name': '96.png'}\n",
      "{'id': 0, 'file_name': '97.png'}\n",
      "{'id': 0, 'file_name': '98.png'}\n",
      "{'id': 0, 'file_name': '99.png'}\n"
     ]
    }
   ],
   "source": [
    "def save_crop_results(input_img_path):\n",
    "    exp = get_exp(None, 'yolox-s')\n",
    "    file_name = os.path.join(exp.output_dir, exp.exp_name)\n",
    "    os.makedirs(file_name, exist_ok=True)\n",
    "    vis_folder = None\n",
    "    vis_folder = os.path.join(file_name, \"vis_res\")\n",
    "    os.makedirs(vis_folder, exist_ok=True)\n",
    "    exp.test_conf = 0.25\n",
    "    exp.nmsthre = 0.45\n",
    "    exp.test_size = (640,640)\n",
    "    model = exp.get_model()\n",
    "    model.cuda()\n",
    "    model.eval()\n",
    "    ckpt_file = \"yolox_s.pth\"\n",
    "    ckpt = torch.load(ckpt_file, map_location=\"cpu\")\n",
    "    model.load_state_dict(ckpt[\"model\"])\n",
    "    trt_file = None\n",
    "    decoder = None\n",
    "    predictor = Predictor(\n",
    "        model, exp, COCO_CLASSES, trt_file, decoder,\n",
    "        'gpu', None, None,\n",
    "    )\n",
    "    current_time = time.localtime()\n",
    "    image_demo(predictor, vis_folder, input_img_path, current_time, save_result=False)\n",
    "    \n",
    "target_folder=r'crawled_images/5'#以此整理出所有类别裁剪后的图片\n",
    "save_crop_results(target_folder)"
   ]
  },
  {
   "cell_type": "markdown",
   "id": "72deafe4",
   "metadata": {},
   "source": [
    "以雪碧为例，裁剪后的图片存放在cropped_images文件夹对应的类别下，如下图所示。\n",
    "\n",
    "![](./assets/裁剪示例.png)"
   ]
  },
  {
   "cell_type": "markdown",
   "id": "4e0d2d54",
   "metadata": {},
   "source": [
    "从中我们可以发现一些现象/问题\n",
    "- 从300张图片中一共检测出1034个瓶子\n",
    "- 有些瓶子并不完整，例如：只有上半部分，被其他瓶子遮挡\n",
    "- 即便搜的关键词非常准确，但是样本的质量仍然不够好——有其他罐装雪碧、甚至可乐混进来\n",
    "\n",
    "考虑到作业中的表情数据集质量也不是很高，且现实中除非特定要求，数据集的质量一般都不会特别高，因此我会先用这些数据进行训练。"
   ]
  },
  {
   "cell_type": "markdown",
   "id": "9136d6eb",
   "metadata": {},
   "source": [
    "## 手动采集图片\n",
    "这是看到实验结果不够好的情况下，我再次准备的一个数据集，之后实验部分会有对比分析。  \n",
    "其目的是解决爬虫得到的图片所出现的问题，获得更高质量的图片。\n",
    "具体做法为：实时录制并按类别分别检测饮料瓶的图片，按类别存放在reallife_images.py文件夹内，代码和结果如下所示。"
   ]
  },
  {
   "cell_type": "code",
   "execution_count": null,
   "id": "f2aaba81",
   "metadata": {},
   "outputs": [],
   "source": [
    "#命令行调用摄像头，因为在notebook中无法实现弹窗的效果\n",
    "#经过我的手工实现，在调用过程中会自动在visualize.py中去裁剪&落盘裁剪后的图片\n",
    "python realtime.py webcam -n yolox-s  -c yolox_s.pth --path /path/to/your/video --conf 0.25 --nms 0.45 --tsize 640 --save_result --device gpu"
   ]
  },
  {
   "cell_type": "markdown",
   "id": "8497112f",
   "metadata": {},
   "source": [
    "![](./assets/增强示例.png)"
   ]
  },
  {
   "cell_type": "markdown",
   "id": "2f283fb4",
   "metadata": {},
   "source": [
    "从上图可以看出，\n",
    "- 我分别对手握持的角度、姿势、方向、水平旋转、左右手、翻转、对瓶子不同部位的遮挡进行了调整，每个类别最终录得500多张图片，因此保证了样本量的平衡。  \n",
    "- 同时，这一做法相当于手动进行了数据增强，同时也保证了数据的质量。  \n",
    "- 最后，为保证实验的公平，录制和最终测试的场景是不同的，这意味着背景、灯光等等会有差异，排除了模型背答案的行为。"
   ]
  },
  {
   "cell_type": "markdown",
   "id": "54dcc734",
   "metadata": {},
   "source": [
    "# 模型选择、验证与调优"
   ]
  },
  {
   "cell_type": "markdown",
   "id": "033c2cfa",
   "metadata": {},
   "source": [
    "考虑到饮料瓶均为height>>width的图片，因此对它们从长边进行压缩而非裁剪长边，一律压缩成100\\*100的图片，进行相应的训练。"
   ]
  },
  {
   "cell_type": "markdown",
   "id": "9417e835",
   "metadata": {},
   "source": [
    "可视化中间层"
   ]
  },
  {
   "cell_type": "code",
   "execution_count": 2,
   "id": "f86767fe",
   "metadata": {
    "ExecuteTime": {
     "end_time": "2021-12-12T09:09:52.001100Z",
     "start_time": "2021-12-12T09:09:51.992100Z"
    }
   },
   "outputs": [],
   "source": [
    "from tensorflow.keras.callbacks import EarlyStopping, ModelCheckpoint,CSVLogger,ReduceLROnPlateau\n",
    "from tensorflow.keras.models import Sequential\n",
    "from tensorflow.keras.layers import Conv2D, MaxPool2D, Activation, Dropout, Flatten, Dense,AveragePooling2D,MaxPool2D\n",
    "from tensorflow.keras.optimizers import Adam\n",
    "from tensorflow.keras.preprocessing.image import ImageDataGenerator\n",
    "import tensorflow as tf\n",
    "from tensorflow.keras.models import load_model\n",
    "import itertools\n",
    "import numpy as np\n",
    "import matplotlib.pyplot as plt\n",
    "# from sklearn.metrics import confusion_matrix,classification_report\n",
    "import time\n",
    "import os\n",
    "import numpy as np \n",
    "import pandas as pd\n",
    "from tensorflow.keras.utils import to_categorical\n",
    "from PIL import Image\n",
    "import os\n",
    "from tensorflow.keras import backend as K"
   ]
  },
  {
   "cell_type": "code",
   "execution_count": 24,
   "id": "a5ee5137",
   "metadata": {
    "ExecuteTime": {
     "end_time": "2021-12-11T19:57:54.789186Z",
     "start_time": "2021-12-11T19:57:54.616198Z"
    }
   },
   "outputs": [
    {
     "data": {
      "image/png": "[encoded data removed]",
      "text/plain": [
       "<Figure size 432x288 with 1 Axes>"
      ]
     },
     "metadata": {
      "needs_background": "light"
     },
     "output_type": "display_data"
    },
    {
     "data": {
      "image/png": "[encoded data removed]",
      "text/plain": [
       "<Figure size 432x288 with 1 Axes>"
      ]
     },
     "metadata": {
      "needs_background": "light"
     },
     "output_type": "display_data"
    }
   ],
   "source": [
    "img_path='reallife_images/0/0.612563331998215.jpg'\n",
    "img = Image.open(img_path)\n",
    "resized_img=img.resize((96,96))\n",
    "plt.imshow(img)\n",
    "plt.show()\n",
    "plt.imshow(resized_img)\n",
    "plt.show()"
   ]
  },
  {
   "cell_type": "code",
   "execution_count": null,
   "id": "7bdb3874",
   "metadata": {},
   "outputs": [],
   "source": [
    "https://blog.csdn.net/weixin_33923901/article/details/112717405\n",
    "    https://blog.csdn.net/xiaotian127/article/details/100828903"
   ]
  },
  {
   "cell_type": "markdown",
   "id": "b872da7d",
   "metadata": {},
   "source": [
    "可以看出，不同"
   ]
  },
  {
   "cell_type": "code",
   "execution_count": 82,
   "id": "e2a81170",
   "metadata": {
    "ExecuteTime": {
     "end_time": "2021-12-12T08:13:13.080399Z",
     "start_time": "2021-12-12T08:13:13.061402Z"
    }
   },
   "outputs": [
    {
     "data": {
      "text/plain": [
       "{'0': 0, '1': 1, '2': 2, '3': 3, '4': 4, '5': 5, '6': 6}"
      ]
     },
     "execution_count": 82,
     "metadata": {},
     "output_type": "execute_result"
    }
   ],
   "source": [
    "train_generator."
   ]
  },
  {
   "cell_type": "code",
   "execution_count": null,
   "id": "0d59899f",
   "metadata": {},
   "outputs": [],
   "source": []
  },
  {
   "cell_type": "code",
   "execution_count": null,
   "id": "89cda408",
   "metadata": {},
   "outputs": [],
   "source": []
  },
  {
   "cell_type": "code",
   "execution_count": null,
   "id": "b61b1ef3",
   "metadata": {},
   "outputs": [],
   "source": []
  },
  {
   "cell_type": "code",
   "execution_count": 3,
   "id": "a309b706",
   "metadata": {
    "ExecuteTime": {
     "end_time": "2021-12-12T05:09:19.162353Z",
     "start_time": "2021-12-12T05:03:06.041036Z"
    },
    "scrolled": true
   },
   "outputs": [
    {
     "name": "stdout",
     "output_type": "stream",
     "text": [
      "Found 3359 images belonging to 7 classes.\n",
      "Found 837 images belonging to 7 classes.\n",
      "Epoch 1/50\n",
      "105/104 [==============================] - 32s 304ms/step - loss: 1.1540 - accuracy: 0.5064 - val_loss: 0.5162 - val_accuracy: 0.7814\n",
      "Epoch 2/50\n",
      "105/104 [==============================] - 7s 64ms/step - loss: 0.3757 - accuracy: 0.8607 - val_loss: 0.1398 - val_accuracy: 0.9462\n",
      "Epoch 3/50\n",
      "105/104 [==============================] - 7s 67ms/step - loss: 0.1263 - accuracy: 0.9565 - val_loss: 0.0218 - val_accuracy: 0.9964\n",
      "Epoch 4/50\n",
      "105/104 [==============================] - 7s 67ms/step - loss: 0.1050 - accuracy: 0.9658 - val_loss: 0.0231 - val_accuracy: 0.9952\n",
      "Epoch 5/50\n",
      "105/104 [==============================] - 7s 64ms/step - loss: 0.0805 - accuracy: 0.9777 - val_loss: 0.0220 - val_accuracy: 0.9964\n",
      "Epoch 6/50\n",
      "105/104 [==============================] - 7s 62ms/step - loss: 0.0495 - accuracy: 0.9863 - val_loss: 0.1736 - val_accuracy: 0.9379\n",
      "Epoch 7/50\n",
      "105/104 [==============================] - 7s 63ms/step - loss: 0.0869 - accuracy: 0.9741 - val_loss: 0.0675 - val_accuracy: 0.9809\n",
      "Epoch 8/50\n",
      "105/104 [==============================] - 7s 62ms/step - loss: 0.0601 - accuracy: 0.9833 - val_loss: 0.1685 - val_accuracy: 0.9486\n",
      "Epoch 9/50\n",
      "105/104 [==============================] - 6s 62ms/step - loss: 0.0352 - accuracy: 0.9878 - val_loss: 0.0071 - val_accuracy: 0.9988\n",
      "Epoch 10/50\n",
      "105/104 [==============================] - 6s 62ms/step - loss: 0.0682 - accuracy: 0.9801 - val_loss: 0.0106 - val_accuracy: 0.9964\n",
      "Epoch 11/50\n",
      "105/104 [==============================] - 7s 62ms/step - loss: 0.0263 - accuracy: 0.9926 - val_loss: 0.0146 - val_accuracy: 0.9964\n",
      "Epoch 12/50\n",
      "105/104 [==============================] - 6s 61ms/step - loss: 0.0227 - accuracy: 0.9935 - val_loss: 0.0143 - val_accuracy: 0.9964\n",
      "Epoch 13/50\n",
      "105/104 [==============================] - 6s 62ms/step - loss: 0.0585 - accuracy: 0.9824 - val_loss: 0.0125 - val_accuracy: 0.9952\n",
      "Epoch 14/50\n",
      "105/104 [==============================] - 7s 62ms/step - loss: 0.0704 - accuracy: 0.9827 - val_loss: 0.0157 - val_accuracy: 0.9964\n",
      "Epoch 15/50\n",
      "105/104 [==============================] - 6s 62ms/step - loss: 0.0432 - accuracy: 0.9884 - val_loss: 0.0060 - val_accuracy: 0.9988\n",
      "Epoch 16/50\n",
      "105/104 [==============================] - 7s 62ms/step - loss: 0.0144 - accuracy: 0.9958 - val_loss: 0.0072 - val_accuracy: 0.9976\n",
      "Epoch 17/50\n",
      "105/104 [==============================] - 6s 62ms/step - loss: 0.0122 - accuracy: 0.9964 - val_loss: 0.0082 - val_accuracy: 0.9976\n",
      "Epoch 18/50\n",
      "105/104 [==============================] - 7s 63ms/step - loss: 0.0366 - accuracy: 0.9917 - val_loss: 0.2521 - val_accuracy: 0.9486\n",
      "Epoch 19/50\n",
      "105/104 [==============================] - 7s 65ms/step - loss: 0.0234 - accuracy: 0.9946 - val_loss: 0.0353 - val_accuracy: 0.9892\n",
      "Epoch 20/50\n",
      "105/104 [==============================] - 7s 64ms/step - loss: 0.0201 - accuracy: 0.9929 - val_loss: 0.0108 - val_accuracy: 0.9964\n",
      "Epoch 21/50\n",
      "105/104 [==============================] - 7s 64ms/step - loss: 0.0570 - accuracy: 0.9866 - val_loss: 0.0202 - val_accuracy: 0.9916\n",
      "Epoch 22/50\n",
      "105/104 [==============================] - 7s 63ms/step - loss: 0.0159 - accuracy: 0.9964 - val_loss: 0.0053 - val_accuracy: 0.9988\n",
      "Epoch 23/50\n",
      "105/104 [==============================] - 7s 63ms/step - loss: 0.1211 - accuracy: 0.9625 - val_loss: 0.0270 - val_accuracy: 0.9904\n",
      "Epoch 24/50\n",
      "105/104 [==============================] - 7s 63ms/step - loss: 0.0544 - accuracy: 0.9848 - val_loss: 0.0408 - val_accuracy: 0.9892\n",
      "Epoch 25/50\n",
      "105/104 [==============================] - 7s 63ms/step - loss: 0.0504 - accuracy: 0.9839 - val_loss: 0.0053 - val_accuracy: 0.9988\n",
      "Epoch 26/50\n",
      "105/104 [==============================] - 7s 63ms/step - loss: 0.0279 - accuracy: 0.9920 - val_loss: 0.0221 - val_accuracy: 0.9964\n",
      "Epoch 27/50\n",
      "105/104 [==============================] - 6s 62ms/step - loss: 0.0077 - accuracy: 0.9979 - val_loss: 0.0017 - val_accuracy: 1.0000\n",
      "Epoch 28/50\n",
      "105/104 [==============================] - 6s 62ms/step - loss: 0.0467 - accuracy: 0.9851 - val_loss: 0.0098 - val_accuracy: 0.9976\n",
      "Epoch 29/50\n",
      "105/104 [==============================] - 6s 62ms/step - loss: 0.0079 - accuracy: 0.9973 - val_loss: 3.1672e-04 - val_accuracy: 1.0000\n",
      "Epoch 30/50\n",
      "105/104 [==============================] - 6s 61ms/step - loss: 0.0215 - accuracy: 0.9929 - val_loss: 0.0163 - val_accuracy: 0.9964\n",
      "Epoch 31/50\n",
      "105/104 [==============================] - 6s 61ms/step - loss: 0.0225 - accuracy: 0.9940 - val_loss: 0.0159 - val_accuracy: 0.9976\n",
      "Epoch 32/50\n",
      "105/104 [==============================] - 6s 62ms/step - loss: 0.0077 - accuracy: 0.9976 - val_loss: 0.0439 - val_accuracy: 0.9857\n",
      "Epoch 33/50\n",
      "105/104 [==============================] - 6s 62ms/step - loss: 0.0111 - accuracy: 0.9973 - val_loss: 0.0017 - val_accuracy: 0.9988\n",
      "Epoch 34/50\n",
      "105/104 [==============================] - 6s 62ms/step - loss: 7.3946e-04 - accuracy: 1.0000 - val_loss: 0.0019 - val_accuracy: 0.9976\n",
      "Epoch 35/50\n",
      "105/104 [==============================] - 6s 62ms/step - loss: 0.0130 - accuracy: 0.9961 - val_loss: 0.0115 - val_accuracy: 0.9988\n",
      "Epoch 36/50\n",
      "105/104 [==============================] - 6s 62ms/step - loss: 0.0041 - accuracy: 0.9991 - val_loss: 2.8010e-04 - val_accuracy: 1.0000\n",
      "Epoch 37/50\n",
      "105/104 [==============================] - 6s 62ms/step - loss: 0.0050 - accuracy: 0.9976 - val_loss: 3.7826e-04 - val_accuracy: 1.0000\n",
      "Epoch 38/50\n",
      "105/104 [==============================] - 6s 62ms/step - loss: 3.1247e-04 - accuracy: 1.0000 - val_loss: 6.7867e-05 - val_accuracy: 1.0000\n",
      "Epoch 39/50\n",
      "105/104 [==============================] - 7s 62ms/step - loss: 0.0271 - accuracy: 0.9937 - val_loss: 0.1206 - val_accuracy: 0.9737\n",
      "Epoch 40/50\n",
      "105/104 [==============================] - 7s 62ms/step - loss: 0.1898 - accuracy: 0.9473 - val_loss: 0.0356 - val_accuracy: 0.9940\n",
      "Epoch 41/50\n",
      "105/104 [==============================] - 7s 62ms/step - loss: 0.0310 - accuracy: 0.9926 - val_loss: 0.0027 - val_accuracy: 1.0000\n",
      "Epoch 42/50\n",
      "105/104 [==============================] - 7s 62ms/step - loss: 0.0071 - accuracy: 0.9979 - val_loss: 0.0085 - val_accuracy: 0.9964\n",
      "Epoch 43/50\n",
      "105/104 [==============================] - 7s 63ms/step - loss: 0.0078 - accuracy: 0.9982 - val_loss: 1.7519e-04 - val_accuracy: 1.0000\n",
      "Epoch 44/50\n",
      "105/104 [==============================] - 7s 63ms/step - loss: 0.0018 - accuracy: 0.9994 - val_loss: 5.8803e-04 - val_accuracy: 1.0000\n",
      "Epoch 45/50\n",
      "105/104 [==============================] - 7s 63ms/step - loss: 0.0421 - accuracy: 0.9878 - val_loss: 0.0148 - val_accuracy: 0.9940\n",
      "Epoch 46/50\n",
      "105/104 [==============================] - 7s 63ms/step - loss: 0.0182 - accuracy: 0.9958 - val_loss: 0.0135 - val_accuracy: 0.9976\n",
      "Epoch 47/50\n",
      "105/104 [==============================] - 7s 63ms/step - loss: 0.0035 - accuracy: 0.9982 - val_loss: 3.5595e-04 - val_accuracy: 1.0000\n",
      "Epoch 48/50\n",
      "105/104 [==============================] - 7s 63ms/step - loss: 6.9879e-04 - accuracy: 0.9997 - val_loss: 1.7891e-04 - val_accuracy: 1.0000\n",
      "Epoch 49/50\n",
      "105/104 [==============================] - 7s 63ms/step - loss: 0.0013 - accuracy: 0.9994 - val_loss: 6.1787e-04 - val_accuracy: 1.0000\n",
      "Epoch 50/50\n",
      "105/104 [==============================] - 7s 63ms/step - loss: 0.0099 - accuracy: 0.9985 - val_loss: 0.0015 - val_accuracy: 1.0000\n"
     ]
    },
    {
     "data": {
      "text/plain": [
       "<tensorflow.python.keras.callbacks.History at 0x19352ab8bc8>"
      ]
     },
     "execution_count": 3,
     "metadata": {},
     "output_type": "execute_result"
    }
   ],
   "source": [
    "simple_model = Sequential()\n",
    "# 第一层\n",
    "# Put your code here\n",
    "simple_model.add(Conv2D(32, (3, 3), activation='relu', input_shape=(96, 96, 3)))\n",
    "simple_model.add(Conv2D(32, (3, 3), activation='relu'))\n",
    "simple_model.add(MaxPool2D(pool_size=(2, 2), strides=(2, 2)))\n",
    "# 第二层\n",
    "# Put your code here\n",
    "simple_model.add(Conv2D(64, (3, 3), activation='relu'))\n",
    "simple_model.add(Conv2D(64, (3, 3), activation='relu'))\n",
    "simple_model.add(MaxPool2D(pool_size=(2, 2), strides=(2, 2)))\n",
    "# 第三层\n",
    "# Put your code here\n",
    "simple_model.add(Conv2D(128, (3, 3), activation='relu'))\n",
    "simple_model.add(Conv2D(128, (3, 3), activation='relu'))\n",
    "simple_model.add(MaxPool2D(pool_size=(2, 2), strides=(2, 2)))\n",
    "simple_model.add(Flatten())\n",
    "# 全连接层\n",
    "# Put your code here\n",
    "simple_model.add(Dense(1024, activation='relu'))\n",
    "simple_model.add(Dropout(0.2))\n",
    "simple_model.add(Dense(64, activation='relu'))\n",
    "simple_model.add(Dropout(0.2))\n",
    "simple_model.add(Dense(7, activation='softmax'))\n",
    "\n",
    "\n",
    "\n",
    "train_datagen = ImageDataGenerator(\n",
    "    validation_split=0.2,\n",
    "        rotation_range=20,\n",
    "        rescale=1./255,\n",
    "        shear_range=0.2,\n",
    "        zoom_range=0.2,\n",
    "    fill_mode='nearest',\n",
    "        height_shift_range=0.05, \n",
    "    width_shift_range=0.1,\n",
    "        horizontal_flip=True)\n",
    "\n",
    "test_datagen = ImageDataGenerator(validation_split=0.2,rescale=1./255)\n",
    "\n",
    "train_generator = train_datagen.flow_from_directory(\n",
    "        'reallife_images',\n",
    "    subset='training',shuffle=True, seed=42,\n",
    "        target_size=(96, 96),\n",
    "        batch_size=32,\n",
    "        class_mode='categorical')\n",
    "\n",
    "validation_generator = test_datagen.flow_from_directory(\n",
    "        'reallife_images',\n",
    "    subset='validation',shuffle=True, seed=42,\n",
    "        target_size=(96, 96),\n",
    "        batch_size=32,\n",
    "        class_mode='categorical')\n",
    "\n",
    "\n",
    "simple_model.compile(loss = 'categorical_crossentropy',optimizer = Adam(lr=0.0005),metrics=['accuracy'])\n",
    "\n",
    "history=simple_model.fit(\n",
    "        train_generator,\n",
    "        steps_per_epoch=train_generator.samples/train_generator.batch_size,\n",
    "        epochs=50,\n",
    "        validation_data=validation_generator,\n",
    "        validation_steps=validation_generator.samples/validation_generator.batch_size)"
   ]
  },
  {
   "cell_type": "code",
   "execution_count": 6,
   "id": "ca36b58b",
   "metadata": {
    "ExecuteTime": {
     "end_time": "2021-12-12T06:26:16.551327Z",
     "start_time": "2021-12-12T06:26:14.025331Z"
    }
   },
   "outputs": [
    {
     "name": "stdout",
     "output_type": "stream",
     "text": [
      "WARNING:tensorflow:From C:\\Users\\Administrator\\AppData\\Roaming\\Python\\Python37\\site-packages\\tensorflow\\python\\training\\tracking\\tracking.py:111: Model.state_updates (from tensorflow.python.keras.engine.training) is deprecated and will be removed in a future version.\n",
      "Instructions for updating:\n",
      "This property should not be used in TensorFlow 2.0, as updates are applied automatically.\n",
      "WARNING:tensorflow:From C:\\Users\\Administrator\\AppData\\Roaming\\Python\\Python37\\site-packages\\tensorflow\\python\\training\\tracking\\tracking.py:111: Layer.updates (from tensorflow.python.keras.engine.base_layer) is deprecated and will be removed in a future version.\n",
      "Instructions for updating:\n",
      "This property should not be used in TensorFlow 2.0, as updates are applied automatically.\n",
      "INFO:tensorflow:Assets written to: simple_model\\assets\n"
     ]
    }
   ],
   "source": [
    "simple_model.save('simple_model')"
   ]
  },
  {
   "cell_type": "code",
   "execution_count": 4,
   "id": "c82c4f07",
   "metadata": {
    "ExecuteTime": {
     "end_time": "2021-12-12T05:09:19.572353Z",
     "start_time": "2021-12-12T05:09:19.165354Z"
    }
   },
   "outputs": [
    {
     "ename": "NameError",
     "evalue": "name 'history' is not defined",
     "output_type": "error",
     "traceback": [
      "\u001b[1;31m---------------------------------------------------------------------------\u001b[0m",
      "\u001b[1;31mNameError\u001b[0m                                 Traceback (most recent call last)",
      "\u001b[1;32m<ipython-input-4-6e67effc31f7>\u001b[0m in \u001b[0;36m<module>\u001b[1;34m\u001b[0m\n\u001b[1;32m----> 1\u001b[1;33m \u001b[0mloss\u001b[0m \u001b[1;33m=\u001b[0m \u001b[0mhistory\u001b[0m\u001b[1;33m.\u001b[0m\u001b[0mhistory\u001b[0m\u001b[1;33m[\u001b[0m\u001b[1;34m'loss'\u001b[0m\u001b[1;33m]\u001b[0m\u001b[1;33m\u001b[0m\u001b[1;33m\u001b[0m\u001b[0m\n\u001b[0m\u001b[0;32m      2\u001b[0m \u001b[0mval_loss\u001b[0m \u001b[1;33m=\u001b[0m \u001b[0mhistory\u001b[0m\u001b[1;33m.\u001b[0m\u001b[0mhistory\u001b[0m\u001b[1;33m[\u001b[0m\u001b[1;34m'val_loss'\u001b[0m\u001b[1;33m]\u001b[0m\u001b[1;33m\u001b[0m\u001b[1;33m\u001b[0m\u001b[0m\n\u001b[0;32m      3\u001b[0m \u001b[0mepochs2\u001b[0m \u001b[1;33m=\u001b[0m \u001b[0mrange\u001b[0m\u001b[1;33m(\u001b[0m\u001b[1;36m1\u001b[0m\u001b[1;33m,\u001b[0m\u001b[0mepochs\u001b[0m\u001b[1;33m+\u001b[0m\u001b[1;36m1\u001b[0m\u001b[1;33m)\u001b[0m\u001b[1;33m\u001b[0m\u001b[1;33m\u001b[0m\u001b[0m\n\u001b[0;32m      4\u001b[0m \u001b[0mfig\u001b[0m \u001b[1;33m=\u001b[0m \u001b[0mplt\u001b[0m\u001b[1;33m.\u001b[0m\u001b[0mfigure\u001b[0m\u001b[1;33m(\u001b[0m\u001b[0mfigsize\u001b[0m\u001b[1;33m=\u001b[0m\u001b[1;33m(\u001b[0m\u001b[1;36m20\u001b[0m\u001b[1;33m,\u001b[0m\u001b[1;36m10\u001b[0m\u001b[1;33m)\u001b[0m\u001b[1;33m)\u001b[0m\u001b[1;33m\u001b[0m\u001b[1;33m\u001b[0m\u001b[0m\n\u001b[0;32m      5\u001b[0m \u001b[0max\u001b[0m \u001b[1;33m=\u001b[0m \u001b[0mfig\u001b[0m\u001b[1;33m.\u001b[0m\u001b[0madd_subplot\u001b[0m\u001b[1;33m(\u001b[0m\u001b[1;36m121\u001b[0m\u001b[1;33m)\u001b[0m\u001b[1;33m\u001b[0m\u001b[1;33m\u001b[0m\u001b[0m\n",
      "\u001b[1;31mNameError\u001b[0m: name 'history' is not defined"
     ]
    }
   ],
   "source": [
    "loss = history.history['loss']\n",
    "val_loss = history.history['val_loss']\n",
    "epochs2 = range(1,epochs+1)\n",
    "fig = plt.figure(figsize=(20,10))\n",
    "ax = fig.add_subplot(121)\n",
    "ax.plot(epochs2,loss,'bo',label = 'Training Loss')\n",
    "ax.plot(epochs2,val_loss,'b',label='Validation Loss')\n",
    "plt.title('Training and Validation loss')\n",
    "plt.xlabel('Epochs')\n",
    "plt.ylabel('Loss')\n",
    "plt.legend()\n",
    "ax2 = fig.add_subplot(122)\n",
    "acc = history.history['accuracy']\n",
    "val_acc = history.history['val_accuracy']\n",
    "ax2.plot(epochs2,acc,'bo',label = 'Training Acc')\n",
    "ax2.plot(epochs2,val_acc,'b',label='Validation Acc')\n",
    "plt.title('Training and Validation accuracy')\n",
    "plt.xlabel('Epochs')\n",
    "plt.ylabel('Acc')\n",
    "plt.legend()\n",
    "plt.show()"
   ]
  },
  {
   "cell_type": "code",
   "execution_count": null,
   "id": "6754cb57",
   "metadata": {
    "ExecuteTime": {
     "end_time": "2021-12-12T05:09:19.573358Z",
     "start_time": "2021-12-12T05:05:22.073Z"
    }
   },
   "outputs": [],
   "source": [
    "#ResNet\n",
    "class IdentityBlock(tf.keras.Model):\n",
    "    def __init__(self, filters, kernel_size):\n",
    "        super(IdentityBlock, self).__init__(name='')\n",
    "        self.conv1 = tf.keras.layers.Conv2D(filters, kernel_size, padding='same')\n",
    "        self.bn1 = tf.keras.layers.BatchNormalization()\n",
    "        self.conv2 = tf.keras.layers.Conv2D(filters, kernel_size, padding='same')\n",
    "        self.bn2 = tf.keras.layers.BatchNormalization()\n",
    "        self.act = tf.keras.layers.Activation('relu')\n",
    "        self.add = tf.keras.layers.Add()\n",
    "    \n",
    "    def call(self, input_tensor):\n",
    "        x = self.conv1(input_tensor)\n",
    "        x = self.bn1(x)\n",
    "        x = self.act(x)\n",
    "        x = self.conv2(x)\n",
    "        x = self.bn2(x)\n",
    "        x = self.add([x, input_tensor])\n",
    "        x = self.act(x)\n",
    "        return x\n",
    "class ResNet(tf.keras.Model):\n",
    "    def __init__(self, num_classes):\n",
    "        super(ResNet, self).__init__()\n",
    "        self.conv = tf.keras.layers.Conv2D(64, 7, padding='same')\n",
    "        self.bn = tf.keras.layers.BatchNormalization()\n",
    "        self.act = tf.keras.layers.Activation('relu')\n",
    "        self.max_pool = tf.keras.layers.MaxPool2D((3, 3))\n",
    "        self.id1a = IdentityBlock(64, 3)\n",
    "        self.id1b = IdentityBlock(64, 3)\n",
    "        self.global_pool = tf.keras.layers.GlobalAveragePooling2D()\n",
    "        self.classifier = tf.keras.layers.Dense(num_classes, activation='softmax')\n",
    "\n",
    "    def call(self, inputs):\n",
    "        x = self.conv(inputs)\n",
    "        x = self.bn(x)\n",
    "        x = self.act(x)\n",
    "        x = self.max_pool(x)\n",
    "        x = self.id1a(x)\n",
    "        x = self.id1b(x)\n",
    "        x = self.global_pool(x)\n",
    "        return self.classifier(x)\n",
    "model = ResNet(7)#7类输出\n",
    "model.compile(optimizer=Adam(lr=0.001, beta_1=0.9, beta_2=0.999, epsilon=1e-7), loss='categorical_crossentropy', metrics=['accuracy'])\n",
    "\n",
    "\n",
    "model.fit(\n",
    "        train_generator,\n",
    "        steps_per_epoch=train_generator.samples/train_generator.batch_size,\n",
    "        epochs=50,\n",
    "        validation_data=validation_generator,\n",
    "        validation_steps=validation_generator.samples/validation_generator.batch_size)"
   ]
  },
  {
   "cell_type": "code",
   "execution_count": null,
   "id": "449d6bec",
   "metadata": {
    "ExecuteTime": {
     "end_time": "2021-12-12T05:09:19.575354Z",
     "start_time": "2021-12-12T05:06:00.885Z"
    }
   },
   "outputs": [],
   "source": [
    "#ResNet\n",
    "class IdentityBlock(tf.keras.Model):\n",
    "    def __init__(self, filters, kernel_size):\n",
    "        super(IdentityBlock, self).__init__(name='')\n",
    "        self.conv1 = tf.keras.layers.Conv2D(filters, kernel_size, padding='same')\n",
    "        self.bn1 = tf.keras.layers.BatchNormalization()\n",
    "        self.conv2 = tf.keras.layers.Conv2D(filters, kernel_size, padding='same')\n",
    "        self.bn2 = tf.keras.layers.BatchNormalization()\n",
    "        self.act = tf.keras.layers.Activation('relu')\n",
    "        self.add = tf.keras.layers.Add()\n",
    "    \n",
    "    def call(self, input_tensor):\n",
    "        x = self.conv1(input_tensor)\n",
    "        x = self.bn1(x)\n",
    "        x = self.act(x)\n",
    "        x = self.conv2(x)\n",
    "        x = self.bn2(x)\n",
    "        x = self.add([x, input_tensor])\n",
    "        x = self.act(x)\n",
    "        return x\n",
    "class ResNet(tf.keras.Model):\n",
    "    def __init__(self, num_classes):\n",
    "        super(ResNet, self).__init__()\n",
    "        self.conv = tf.keras.layers.Conv2D(64, 7, padding='same')\n",
    "        self.bn = tf.keras.layers.BatchNormalization()\n",
    "        self.act = tf.keras.layers.Activation('relu')\n",
    "        self.max_pool = tf.keras.layers.MaxPool2D((3, 3))\n",
    "        self.id1a = IdentityBlock(64, 3)\n",
    "        self.id1b = IdentityBlock(64, 3)\n",
    "        self.global_pool = tf.keras.layers.GlobalAveragePooling2D()\n",
    "        self.classifier = tf.keras.layers.Dense(num_classes, activation='softmax')\n",
    "\n",
    "    def call(self, inputs):\n",
    "        x = self.conv(inputs)\n",
    "        x = self.bn(x)\n",
    "        x = self.act(x)\n",
    "        x = self.max_pool(x)\n",
    "        x = self.id1a(x)\n",
    "        x = self.id1b(x)\n",
    "        x = self.global_pool(x)\n",
    "        return self.classifier(x)\n",
    "model = ResNet(7)#7类输出\n",
    "model.compile(optimizer=Adam(lr=0.001, beta_1=0.9, beta_2=0.999, epsilon=1e-7), loss='categorical_crossentropy', metrics=['accuracy'])\n",
    "\n",
    "\n",
    "model.fit(\n",
    "        train_generator,\n",
    "        steps_per_epoch=train_generator.samples/train_generator.batch_size,\n",
    "        epochs=50,\n",
    "        validation_data=validation_generator,\n",
    "        validation_steps=validation_generator.samples/validation_generator.batch_size)"
   ]
  },
  {
   "cell_type": "code",
   "execution_count": 43,
   "id": "013fa986",
   "metadata": {
    "ExecuteTime": {
     "end_time": "2021-12-12T07:12:08.398818Z",
     "start_time": "2021-12-12T07:12:08.382827Z"
    }
   },
   "outputs": [
    {
     "ename": "AttributeError",
     "evalue": "'JpegImageFile' object has no attribute 'shape'",
     "output_type": "error",
     "traceback": [
      "\u001b[1;31m---------------------------------------------------------------------------\u001b[0m",
      "\u001b[1;31mAttributeError\u001b[0m                            Traceback (most recent call last)",
      "\u001b[1;32m<ipython-input-43-4d481304fb9a>\u001b[0m in \u001b[0;36m<module>\u001b[1;34m\u001b[0m\n\u001b[0;32m      3\u001b[0m \u001b[1;33m\u001b[0m\u001b[0m\n\u001b[0;32m      4\u001b[0m \u001b[0mtest_img\u001b[0m\u001b[1;33m=\u001b[0m\u001b[0mimage\u001b[0m\u001b[1;33m.\u001b[0m\u001b[0mload_img\u001b[0m\u001b[1;33m(\u001b[0m\u001b[1;34mr'assets/3.png'\u001b[0m\u001b[1;33m)\u001b[0m\u001b[1;33m\u001b[0m\u001b[1;33m\u001b[0m\u001b[0m\n\u001b[1;32m----> 5\u001b[1;33m \u001b[0mtest_img\u001b[0m\u001b[1;33m.\u001b[0m\u001b[0mshape\u001b[0m\u001b[1;33m\u001b[0m\u001b[1;33m\u001b[0m\u001b[0m\n\u001b[0m",
      "\u001b[1;31mAttributeError\u001b[0m: 'JpegImageFile' object has no attribute 'shape'"
     ]
    }
   ],
   "source": [
    "from tensorflow.keras.preprocessing import image\n",
    "test_img=image.load_img(r'assets/3.png')\n",
    "test_img.shape"
   ]
  },
  {
   "cell_type": "code",
   "execution_count": 94,
   "id": "e0924b5f",
   "metadata": {
    "ExecuteTime": {
     "end_time": "2021-12-12T08:52:30.449394Z",
     "start_time": "2021-12-12T08:52:28.744497Z"
    }
   },
   "outputs": [],
   "source": [
    "model2=load_model('assets/simple_model/')"
   ]
  },
  {
   "cell_type": "code",
   "execution_count": null,
   "id": "830e78e7",
   "metadata": {},
   "outputs": [],
   "source": []
  },
  {
   "cell_type": "code",
   "execution_count": 14,
   "id": "bfa68b8a",
   "metadata": {
    "ExecuteTime": {
     "end_time": "2021-12-12T10:08:42.474464Z",
     "start_time": "2021-12-12T10:08:42.468464Z"
    }
   },
   "outputs": [
    {
     "data": {
      "text/plain": [
       "TensorShape([96, 96, 3])"
      ]
     },
     "execution_count": 14,
     "metadata": {},
     "output_type": "execute_result"
    }
   ],
   "source": [
    "test_img.shape"
   ]
  },
  {
   "cell_type": "code",
   "execution_count": 10,
   "id": "6823ff7f",
   "metadata": {
    "ExecuteTime": {
     "end_time": "2021-12-12T09:12:13.074201Z",
     "start_time": "2021-12-12T09:12:12.458003Z"
    },
    "scrolled": false
   },
   "outputs": [
    {
     "data": {
      "image/png": "[encoded data removed]",
      "text/plain": [
       "<Figure size 432x288 with 1 Axes>"
      ]
     },
     "metadata": {
      "needs_background": "light"
     },
     "output_type": "display_data"
    }
   ],
   "source": [
    "# from tensorflow.keras.preprocessing import image\n",
    "from tensorflow.keras.models import load_model\n",
    "import cv2\n",
    "# import numpy as np\n",
    "\n",
    "test_img=cv2.imread(r'problem/0.11401461711850158.jpg')\n",
    "test_img=cv2.cvtColor(test_img,cv2.COLOR_BGR2RGB)\n",
    "test_img=tf.image.resize(test_img,(96,96))\n",
    "test_img /= 255\n",
    "plt.imshow(test_img)\n",
    "plt.show()"
   ]
  },
  {
   "cell_type": "code",
   "execution_count": 11,
   "id": "97bf9c5d",
   "metadata": {
    "ExecuteTime": {
     "end_time": "2021-12-12T09:12:15.480890Z",
     "start_time": "2021-12-12T09:12:14.464117Z"
    }
   },
   "outputs": [
    {
     "name": "stdout",
     "output_type": "stream",
     "text": [
      "1\n"
     ]
    }
   ],
   "source": [
    "model2=load_model('assets/simple_model')\n",
    "pred=model2.predict(test_img[tf.newaxis,...])\n",
    "print(np.argmax(pred[0]))"
   ]
  },
  {
   "cell_type": "code",
   "execution_count": 18,
   "id": "52f1acc4",
   "metadata": {
    "ExecuteTime": {
     "end_time": "2021-12-12T10:24:42.269388Z",
     "start_time": "2021-12-12T10:24:42.262388Z"
    }
   },
   "outputs": [
    {
     "name": "stdout",
     "output_type": "stream",
     "text": [
      "(0, {'loc': 0, 'cnt': 0}) (0, {'loc': 0, 'cnt': 0})\n",
      "(1, {'loc': 0, 'cnt': 0}) (1, {'loc': 0, 'cnt': 0})\n",
      "(2, {'loc': 0, 'cnt': 0}) (2, {'loc': 0, 'cnt': 0})\n",
      "(3, {'loc': 0, 'cnt': 0}) (3, {'loc': 0, 'cnt': 0})\n",
      "(4, {'loc': 0, 'cnt': 0}) (4, {'loc': 0, 'cnt': 0})\n",
      "(5, {'loc': 0, 'cnt': 0}) (5, {'loc': 0, 'cnt': 0})\n",
      "(6, {'loc': 0, 'cnt': 0}) (6, {'loc': 0, 'cnt': 0})\n"
     ]
    }
   ],
   "source": [
    "a={i:{'loc':0,'cnt':0} for i in range(7)} \n",
    "b={i:{'loc':0,'cnt':0} for i in range(7)} \n",
    "for (last_id,last_value),(this_id,this_value) in zip(a.items(),b.items()):\n",
    "    print((last_id,last_value),(this_id,this_value))"
   ]
  },
  {
   "cell_type": "code",
   "execution_count": 16,
   "id": "4b42573b",
   "metadata": {
    "ExecuteTime": {
     "end_time": "2021-12-12T10:21:29.183698Z",
     "start_time": "2021-12-12T10:21:29.170703Z"
    }
   },
   "outputs": [
    {
     "data": {
      "text/plain": [
       "7"
      ]
     },
     "execution_count": 16,
     "metadata": {},
     "output_type": "execute_result"
    }
   ],
   "source": [
    "len(_12)"
   ]
  },
  {
   "cell_type": "code",
   "execution_count": 17,
   "id": "24ddcf48",
   "metadata": {
    "ExecuteTime": {
     "end_time": "2021-12-12T10:22:59.588214Z",
     "start_time": "2021-12-12T10:22:59.579215Z"
    }
   },
   "outputs": [
    {
     "name": "stdout",
     "output_type": "stream",
     "text": [
      "0 (0, {'loc': 0, 'cnt': 0})\n",
      "1 (1, {'loc': 0, 'cnt': 0})\n",
      "2 (2, {'loc': 0, 'cnt': 0})\n",
      "3 (3, {'loc': 0, 'cnt': 0})\n",
      "4 (4, {'loc': 0, 'cnt': 0})\n",
      "5 (5, {'loc': 0, 'cnt': 0})\n",
      "6 (6, {'loc': 0, 'cnt': 0})\n"
     ]
    }
   ],
   "source": [
    "for i,j in enumerate(_12.items()):\n",
    "    print(i,j)"
   ]
  },
  {
   "cell_type": "code",
   "execution_count": null,
   "id": "7e367bd5",
   "metadata": {},
   "outputs": [],
   "source": [
    "共用一个gou"
   ]
  },
  {
   "cell_type": "code",
   "execution_count": null,
   "id": "4c64b320",
   "metadata": {},
   "outputs": [],
   "source": []
  },
  {
   "cell_type": "code",
   "execution_count": null,
   "id": "828c9824",
   "metadata": {},
   "outputs": [],
   "source": [
    "深度学习模型的选择：可以基于现有比较成熟的深度学习模型（比如：\n",
    "VGG16、AlexNet、InceptionNet）并做适当的结构修改，可以组合使用现有\n",
    "的多个模型，也可以从头设计自己的深度学习模型。不管选择什么模型，都\n",
    "要：（1）解释选择某个模型的原因；（2）与相关的 Baseline 模型的应用效果\n",
    "做对比分析（具体什么是 Baseline 模型需要自行思考和 Justify）；（3）对使\n",
    "用的深度学习模型进行调参、而不是直接拿来应用。\n",
    "[4]. "
   ]
  },
  {
   "cell_type": "code",
   "execution_count": null,
   "id": "d66842a0",
   "metadata": {},
   "outputs": [],
   "source": [
    "选择的深度学习模型与\n",
    "数据的匹配度（需要自己 Justify）"
   ]
  },
  {
   "cell_type": "code",
   "execution_count": null,
   "id": "18f5ba5e",
   "metadata": {},
   "outputs": [],
   "source": [
    "PPT 文件（场景/问题、解决方案、深度学习模型、数据收集方法、模型\n",
    "应用效果测试、总结和结论、未来研究方向等）\n",
    "2）使用的数据集（如果是网上下载的数据集，可以不上传数据集本身，但要\n",
    "上传一个数据集来源的说明性文件[txt 格式]）\n",
    "3）Python Notebook 源码文件（含：模型、数据处理流程、实验过程及结果）\n",
    "4）如果所有文件加在一起比较大，可以打包成 RAR 文件再上传（以“学号\n",
    "+姓名”作为文件名"
   ]
  },
  {
   "cell_type": "code",
   "execution_count": null,
   "id": "09cbad1e",
   "metadata": {},
   "outputs": [],
   "source": []
  },
  {
   "cell_type": "markdown",
   "id": "a7eb0ef7",
   "metadata": {},
   "source": [
    "# 整体解决方案\n",
    "我已经把整个demo做出来并实地验证了，\n",
    "请见视频 b站地址  \n",
    "所研究问题的整体解决方案：要对基本的框架进行简要的介绍，"
   ]
  },
  {
   "cell_type": "code",
   "execution_count": null,
   "id": "87b86a32",
   "metadata": {},
   "outputs": [],
   "source": [
    "python realtime.py webcam -n yolox-s  -c yolox_s.pth --path /path/to/your/video --conf 0.25 --nms 0.45 --tsize 640 --save_result --device gpu --recog assets/simple_model"
   ]
  },
  {
   "cell_type": "markdown",
   "id": "daa20132",
   "metadata": {},
   "source": [
    "## 两阶段模型的搭建\n",
    "\n",
    "## 实时检测效率的分析\n",
    "480\\*640\n",
    "检测 time: 0.0160s\n",
    "检测+识别： tbd\n",
    "\n",
    "## 取出判断与物体重识别\n",
    "算法设计要避免来回拿的情况，还要兼顾拿多个相同物品。\n",
    "\n",
    "## 数据库"
   ]
  },
  {
   "cell_type": "code",
   "execution_count": null,
   "id": "27043650",
   "metadata": {},
   "outputs": [],
   "source": [
    "import pymysql\n",
    "# CMD执行建库命令\n",
    "# create database container;"
   ]
  },
  {
   "cell_type": "code",
   "execution_count": null,
   "id": "8e5f6957",
   "metadata": {},
   "outputs": [],
   "source": [
    "# # 1.连接\n",
    "conn = pymysql.connect(host='localhost', port=3306, user='root', password='123456', db='container', charset='utf8')\n",
    "# 2.创建游标\n",
    "cursor = conn.cursor()\n",
    "#建表orders\n",
    "sql=\"\"\"\n",
    "CREATE TABLE IF NOT EXISTS `orders`(\n",
    "`id` INT(11) PRIMARY KEY AUTO_INCREMENT,\n",
    "`order_time` datetime DEFAULT CURRENT_TIMESTAMP,\n",
    "`detail` TEXT NOT NULL COMMENT \"包含名称和数量的json字符串\"\n",
    ")ENGINE=InnoDB DEFAULT CHARSET=utf8;\n",
    "\"\"\"\n",
    "# 3.执行sql语句\n",
    "print(cursor.execute(sql)) #执行sql语句，返回sql查询成功的记录数目\n",
    "conn.commit()\n",
    "rows=cursor.fetchall()\n",
    "print(rows)\n",
    "\n",
    "# 关闭连接，游标和连接都要关闭\n",
    "cursor.close()\n",
    "conn.close()"
   ]
  },
  {
   "cell_type": "markdown",
   "id": "508d8890",
   "metadata": {},
   "source": [
    "# 结论&展望\n",
    "- 从商业价值看，充分满足作业第一条提到的商业价值，灵感来源于观察学校的自动售货机的运作过程，发现每一层都有摄像头。但是我去专利网查询的时候，发现他们是根据重量&RFID标签进行识别的。但是RFID经我淘宝搜索，价格也在几毛之间，因此成本很高。我致电客服询问摄像头的用处，客服回应：摄像头的目的在于录像以备发生争议，并没有用来做物体检测与识别。并且，经我实验，如果刻意对智能货柜来回交换货柜内的东西、甚至放自己的东西进去，也会扣钱，因此，现实中的智能货柜也没有那么“智能”。或许，我的本次project是第一个用纯视觉方案去满足现实商业场景中智能货柜的需求的，因此应用价值很大。\n",
    "- 出发点在于没有可以训练yolo的环境，且样本量少，需要标注bounding box，非常困难。\n",
    "- 受到了读论文时第一代R-CNN的启发，同时也需要兼顾作业本身的要求，\n",
    "- 此外，为了效果展示，还有一定的工程开发量，同时我也想兼顾前半学期的内容，将数据库接入本次大作业中\n",
    "- 算法设计不是本节课的重点，因此我只用朴素的方法去判断是否取出，未来可以引入deepsort算法做重识别，更好的实现取出算法和多个相同物品的算法。"
   ]
  },
  {
   "cell_type": "markdown",
   "id": "a1515333",
   "metadata": {},
   "source": [
    "# Reference\n",
    "> [YOLOX: Exceeding YOLO Series in 2021](https://github.com/Megvii-BaseDetection/YOLOX)\n",
    "\n",
    "\n",
    "> [Keras ResNet Pretrained Model](https://keras.io/api/applications/resnet/#resnet50-function)"
   ]
  }
 ],
 "metadata": {
  "hide_input": false,
  "kernelspec": {
   "display_name": "Python [conda env:YOLOX]",
   "language": "python",
   "name": "conda-env-YOLOX-py"
  },
  "language_info": {
   "codemirror_mode": {
    "name": "ipython",
    "version": 3
   },
   "file_extension": ".py",
   "mimetype": "text/x-python",
   "name": "python",
   "nbconvert_exporter": "python",
   "pygments_lexer": "ipython3",
   "version": "3.8.12"
  },
  "toc": {
   "base_numbering": 1,
   "nav_menu": {},
   "number_sections": true,
   "sideBar": true,
   "skip_h1_title": false,
   "title_cell": "Table of Contents",
   "title_sidebar": "Contents",
   "toc_cell": false,
   "toc_position": {
    "height": "calc(100% - 180px)",
    "left": "10px",
    "top": "150px",
    "width": "384px"
   },
   "toc_section_display": true,
   "toc_window_display": true
  }
 },
 "nbformat": 4,
 "nbformat_minor": 5
}
